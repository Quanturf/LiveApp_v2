{
 "cells": [
  {
   "cell_type": "markdown",
   "id": "676d6603",
   "metadata": {},
   "source": [
    "# This jupyter notebook provides all the details of Alpaca API\n",
    "\n",
    "[1. Get historical/live Data](#1)\n",
    "\n",
    "[2. Monitor results - Alpaca account level](#2)\n",
    "\n",
    "[3. Monitor results - Strategy level](#3)\n",
    "\n",
    "[4. Submit order](#4)\n",
    "\n",
    "[5. Run multiprocess](#5)"
   ]
  },
  {
   "cell_type": "code",
   "execution_count": 2,
   "id": "ba347cd5",
   "metadata": {},
   "outputs": [
    {
     "ename": "ModuleNotFoundError",
     "evalue": "No module named 'alpaca_backtrader_api'",
     "output_type": "error",
     "traceback": [
      "\u001b[1;31m---------------------------------------------------------------------------\u001b[0m",
      "\u001b[1;31mModuleNotFoundError\u001b[0m                       Traceback (most recent call last)",
      "\u001b[1;32m~\\AppData\\Local\\Temp\\ipykernel_7248\\2470277169.py\u001b[0m in \u001b[0;36m<module>\u001b[1;34m\u001b[0m\n\u001b[1;32m----> 1\u001b[1;33m \u001b[1;32mimport\u001b[0m \u001b[0malpaca_backtrader_api\u001b[0m\u001b[1;33m\u001b[0m\u001b[1;33m\u001b[0m\u001b[0m\n\u001b[0m\u001b[0;32m      2\u001b[0m \u001b[1;32mimport\u001b[0m \u001b[0mbacktrader\u001b[0m \u001b[1;32mas\u001b[0m \u001b[0mbt\u001b[0m\u001b[1;33m\u001b[0m\u001b[1;33m\u001b[0m\u001b[0m\n\u001b[0;32m      3\u001b[0m \u001b[1;32mfrom\u001b[0m \u001b[0mdatetime\u001b[0m \u001b[1;32mimport\u001b[0m \u001b[0mdatetime\u001b[0m\u001b[1;33m\u001b[0m\u001b[1;33m\u001b[0m\u001b[0m\n",
      "\u001b[1;31mModuleNotFoundError\u001b[0m: No module named 'alpaca_backtrader_api'"
     ]
    }
   ],
   "source": [
    "import alpaca_backtrader_api\n",
    "import backtrader as bt\n",
    "from datetime import datetime"
   ]
  },
  {
   "cell_type": "code",
   "execution_count": 4,
   "id": "c20c4e2d",
   "metadata": {},
   "outputs": [],
   "source": [
    "os.environ['APCA_API_KEY_ID'] = 'PKCXJIA0J6B064W65PG8'\n",
    "os.environ['APCA_API_SECRET_KEY'] = 'e2qNpzFFqFhgOrEeSXipkCh4zi2UyVcFo2R1KKcD'\n",
    "os.environ['APCA_API_BASE_URL'] = 'https://paper-api.alpaca.markets'\n",
    "api = REST()"
   ]
  },
  {
   "cell_type": "markdown",
   "id": "0b7c0580",
   "metadata": {},
   "source": [
    "<a id='1'></a>\n",
    "# Get Data\n",
    "\n",
    "* Exhaustive list of symbols\n",
    "* Downloading the data"
   ]
  },
  {
   "cell_type": "code",
   "execution_count": null,
   "id": "39724394",
   "metadata": {},
   "outputs": [],
   "source": [
    "\"\"\"\n",
    "You have 3 options:\n",
    " - backtest (IS_BACKTEST=True, IS_LIVE=False)\n",
    " - paper trade (IS_BACKTEST=False, IS_LIVE=False)\n",
    " - live trade (IS_BACKTEST=False, IS_LIVE=True)\n",
    "\"\"\"\n",
    "IS_BACKTEST = False\n",
    "IS_LIVE = False\n",
    "symbol = \"AAPL\"\n",
    "\n",
    "\n",
    "class SmaCross1(bt.Strategy):\n",
    "    # list of parameters which are configurable for the strategy\n",
    "    params = dict(\n",
    "        pfast=10,  # period for the fast moving average\n",
    "        pslow=30,   # period for the slow moving average\n",
    "        rsi_per=14,\n",
    "        rsi_upper=65.0,\n",
    "        rsi_lower=35.0,\n",
    "        rsi_out=50.0,\n",
    "        warmup=35\n",
    "    )\n",
    "\n",
    "    def log(self, txt, dt=None):\n",
    "        dt = dt or self.data.datetime[0]\n",
    "        dt = bt.num2date(dt)\n",
    "        print('%s, %s' % (dt.isoformat(), txt))\n",
    "\n",
    "    def notify_trade(self, trade):\n",
    "        self.log(\"placing trade for {}. target size: {}\".format(\n",
    "            trade.getdataname(),\n",
    "            trade.size))\n",
    "\n",
    "    def notify_order(self, order):\n",
    "        print(f\"Order notification. status{order.getstatusname()}.\")\n",
    "        print(f\"Order info. status{order.info}.\")\n",
    "\n",
    "    def notify_store(self, msg, *args, **kwargs):\n",
    "        super().notify_store(msg, *args, **kwargs)\n",
    "        self.log(msg)\n",
    "\n",
    "    def stop(self):\n",
    "        print('==================================================')\n",
    "        print('Starting Value - %.2f' % self.broker.startingcash)\n",
    "        print('Ending   Value - %.2f' % self.broker.getvalue())\n",
    "        print('==================================================')\n",
    "\n",
    "    def __init__(self):\n",
    "        self.live_bars = False\n",
    "        sma1 = bt.ind.SMA(self.data0, period=self.p.pfast)\n",
    "        sma2 = bt.ind.SMA(self.data0, period=self.p.pslow)\n",
    "        self.crossover = bt.ind.CrossOver(sma1, sma2)\n",
    "\n",
    "        rsi = bt.indicators.RSI(period=self.p.rsi_per,\n",
    "                                upperband=self.p.rsi_upper,\n",
    "                                lowerband=self.p.rsi_lower)\n",
    "\n",
    "        self.crossdown = bt.ind.CrossDown(rsi, self.p.rsi_upper)\n",
    "        self.crossup = bt.ind.CrossUp(rsi, self.p.rsi_lower)\n",
    "\n",
    "    def notify_data(self, data, status, *args, **kwargs):\n",
    "        super().notify_data(data, status, *args, **kwargs)\n",
    "        print('*' * 5, 'DATA NOTIF:', data._getstatusname(status), *args)\n",
    "        if data._getstatusname(status) == \"LIVE\":\n",
    "            self.live_bars = True\n",
    "\n",
    "    def next(self):\n",
    "        if not self.live_bars and not IS_BACKTEST:\n",
    "            # only run code if we have live bars (today's bars).\n",
    "            # ignore if we are backtesting\n",
    "            return\n",
    "        # if fast crosses slow to the upside\n",
    "        if not self.positionsbyname[symbol].size:\n",
    "            if self.crossover > 0 or self.crossup > 0:\n",
    "                self.buy(data=data0, size=5)  # enter long\n",
    "\n",
    "        # in the market & cross to the downside\n",
    "        if self.positionsbyname[symbol].size:\n",
    "            if self.crossover <= 0 or self.crossdown < 0:\n",
    "                self.close(data=data0)  # close long position"
   ]
  },
  {
   "cell_type": "code",
   "execution_count": 5,
   "id": "30386df6",
   "metadata": {},
   "outputs": [],
   "source": [
    "if __name__ == '__main__':\n",
    "    import logging\n",
    "    logging.basicConfig(format='%(asctime)s %(message)s', level=logging.INFO)\n",
    "    cerebro = bt.Cerebro()\n",
    "    cerebro.addstrategy(SmaCross1)\n",
    "\n",
    "    store = alpaca_backtrader_api.AlpacaStore(\n",
    "        key_id=ALPACA_API_KEY,\n",
    "        secret_key=ALPACA_SECRET_KEY,\n",
    "        paper=not IS_LIVE,\n",
    "    )\n",
    "\n",
    "    DataFactory = store.getdata  # or use alpaca_backtrader_api.AlpacaData\n",
    "    if IS_BACKTEST:\n",
    "        data0 = DataFactory(dataname=symbol, historical=True,\n",
    "                            fromdate=datetime(2015, 1, 1),\n",
    "                            timeframe=bt.TimeFrame.Days,\n",
    "                            data_feed='iex')\n",
    "\n",
    "    else:\n",
    "        data0 = DataFactory(dataname=symbol,\n",
    "                            historical=False,\n",
    "                            timeframe=bt.TimeFrame.Ticks,\n",
    "                            backfill_start=False,\n",
    "                            data_feed='iex')\n",
    "        # or just alpaca_backtrader_api.AlpacaBroker()\n",
    "        broker = store.getbroker()\n",
    "        cerebro.setbroker(broker)\n",
    "    cerebro.adddata(data0)\n",
    "\n",
    "    if IS_BACKTEST:\n",
    "        # backtrader broker set initial simulated cash\n",
    "        cerebro.broker.setcash(100000.0)\n",
    "\n",
    "    print('Starting Portfolio Value: {}'.format(cerebro.broker.getvalue()))\n",
    "    cerebro.run()\n",
    "    print('Final Portfolio Value: {}'.format(cerebro.broker.getvalue()))\n",
    "    cerebro.plot()"
   ]
  },
  {
   "cell_type": "code",
   "execution_count": 6,
   "id": "474979da",
   "metadata": {},
   "outputs": [
    {
     "name": "stdout",
     "output_type": "stream",
     "text": [
      "Asset({   'class': 'us_equity',\n",
      "    'easy_to_borrow': False,\n",
      "    'exchange': 'OTC',\n",
      "    'fractionable': True,\n",
      "    'id': 'f669b6d7-73cf-4f46-a41e-9e17c9924abe',\n",
      "    'maintenance_margin_requirement': 100,\n",
      "    'marginable': False,\n",
      "    'name': 'Aston Martin Lagonda Global Holdings plc American Depositary '\n",
      "            'Receipts - Unsponsored',\n",
      "    'shortable': False,\n",
      "    'status': 'active',\n",
      "    'symbol': 'ARGGY',\n",
      "    'tradable': False})\n"
     ]
    }
   ],
   "source": [
    "result_df = pd.DataFrame()\n",
    "\n",
    "print(result[0]) # cum_qty, price, symbol, transaction_time"
   ]
  },
  {
   "cell_type": "code",
   "execution_count": 7,
   "id": "4c667e95",
   "metadata": {},
   "outputs": [
    {
     "data": {
      "text/plain": [
       "Asset({   'class': 'us_equity',\n",
       "    'easy_to_borrow': False,\n",
       "    'exchange': 'OTC',\n",
       "    'fractionable': False,\n",
       "    'id': '4f8635d9-59c2-4f13-b5f5-a86243fa0ea8',\n",
       "    'maintenance_margin_requirement': 100,\n",
       "    'marginable': False,\n",
       "    'name': 'ABRAXAS PETE CORP COM NEW',\n",
       "    'shortable': False,\n",
       "    'status': 'active',\n",
       "    'symbol': 'AXAS',\n",
       "    'tradable': False})"
      ]
     },
     "execution_count": 7,
     "metadata": {},
     "output_type": "execute_result"
    }
   ],
   "source": [
    "result[1]"
   ]
  },
  {
   "cell_type": "code",
   "execution_count": 8,
   "id": "0c0b4473",
   "metadata": {},
   "outputs": [
    {
     "data": {
      "text/plain": [
       "alpaca_trade_api.entity.Asset"
      ]
     },
     "execution_count": 8,
     "metadata": {},
     "output_type": "execute_result"
    }
   ],
   "source": [
    "type(result[0])"
   ]
  },
  {
   "cell_type": "code",
   "execution_count": 9,
   "id": "4555bad3",
   "metadata": {},
   "outputs": [],
   "source": [
    "result_df = pd.DataFrame(columns = ['class','exchange','symbol'])"
   ]
  },
  {
   "cell_type": "code",
   "execution_count": 10,
   "id": "4ee7065d",
   "metadata": {},
   "outputs": [
    {
     "name": "stdout",
     "output_type": "stream",
     "text": [
      "      exchange     Symbol\n",
      "0          OTC      ARGGY\n",
      "1          OTC       AXAS\n",
      "2          OTC       BDRL\n",
      "3          OTC      BRCNF\n",
      "4          OTC      BTLCY\n",
      "...        ...        ...\n",
      "11079     FTXU   LINK/BTC\n",
      "11080     FTXU    LTC/USD\n",
      "11081     FTXU   LTC/USDT\n",
      "11082     FTXU  PAXG/USDT\n",
      "11083     FTXU  MATIC/USD\n",
      "\n",
      "[11084 rows x 2 columns]\n"
     ]
    }
   ],
   "source": [
    "class_list = []\n",
    "exchange_list = []\n",
    "symbol_list = []\n",
    "\n",
    "for res in result:\n",
    "    #print(res.class)\n",
    "    #class_list.append(res.class)\n",
    "    exchange_list.append(res.exchange)\n",
    "    symbol_list.append(res.symbol)\n",
    "\n",
    "result_df = pd.DataFrame({ 'exchange': exchange_list, 'Symbol': symbol_list})\n",
    "print(result_df)"
   ]
  },
  {
   "cell_type": "code",
   "execution_count": 11,
   "id": "1c44e530",
   "metadata": {},
   "outputs": [
    {
     "data": {
      "text/plain": [
       "array(['ARGGY', 'AXAS', 'BDRL', ..., 'LTC/USDT', 'PAXG/USDT', 'MATIC/USD'],\n",
       "      dtype=object)"
      ]
     },
     "execution_count": 11,
     "metadata": {},
     "output_type": "execute_result"
    }
   ],
   "source": [
    "result_df.Symbol.unique()"
   ]
  },
  {
   "cell_type": "code",
   "execution_count": 12,
   "id": "e790fb50",
   "metadata": {},
   "outputs": [
    {
     "data": {
      "text/plain": [
       "array(['OTC', 'NASDAQ', 'AMEX', 'NYSE', 'ARCA', 'BATS', 'FTXU'],\n",
       "      dtype=object)"
      ]
     },
     "execution_count": 12,
     "metadata": {},
     "output_type": "execute_result"
    }
   ],
   "source": [
    "result_df.exchange.unique()"
   ]
  },
  {
   "cell_type": "code",
   "execution_count": 13,
   "id": "7f2b247e",
   "metadata": {},
   "outputs": [
    {
     "data": {
      "text/html": [
       "<div>\n",
       "<style scoped>\n",
       "    .dataframe tbody tr th:only-of-type {\n",
       "        vertical-align: middle;\n",
       "    }\n",
       "\n",
       "    .dataframe tbody tr th {\n",
       "        vertical-align: top;\n",
       "    }\n",
       "\n",
       "    .dataframe thead th {\n",
       "        text-align: right;\n",
       "    }\n",
       "</style>\n",
       "<table border=\"1\" class=\"dataframe\">\n",
       "  <thead>\n",
       "    <tr style=\"text-align: right;\">\n",
       "      <th></th>\n",
       "      <th>exchange</th>\n",
       "      <th>Symbol</th>\n",
       "    </tr>\n",
       "  </thead>\n",
       "  <tbody>\n",
       "  </tbody>\n",
       "</table>\n",
       "</div>"
      ],
      "text/plain": [
       "Empty DataFrame\n",
       "Columns: [exchange, Symbol]\n",
       "Index: []"
      ]
     },
     "execution_count": 13,
     "metadata": {},
     "output_type": "execute_result"
    }
   ],
   "source": [
    "#Finding a symbol\n",
    "result_df[result_df['Symbol'] == 'ES00']"
   ]
  },
  {
   "cell_type": "code",
   "execution_count": 14,
   "id": "5871f7ce",
   "metadata": {},
   "outputs": [],
   "source": [
    "#Data download\n",
    "from alpaca_trade_api.rest import TimeFrame\n",
    "historical_data = api.get_bars(\n",
    "    symbol='TSLA', #any symbol is acceptable if it can be found in Alpaca API\n",
    "    timeframe=TimeFrame.Hour, \n",
    "    start=\"2018-01-01T00:00:00-00:00\",\n",
    "    end=\"2018-02-01T00:00:00-00:00\"\n",
    ").df"
   ]
  },
  {
   "cell_type": "code",
   "execution_count": 15,
   "id": "1a604aa6",
   "metadata": {},
   "outputs": [
    {
     "data": {
      "text/html": [
       "<div>\n",
       "<style scoped>\n",
       "    .dataframe tbody tr th:only-of-type {\n",
       "        vertical-align: middle;\n",
       "    }\n",
       "\n",
       "    .dataframe tbody tr th {\n",
       "        vertical-align: top;\n",
       "    }\n",
       "\n",
       "    .dataframe thead th {\n",
       "        text-align: right;\n",
       "    }\n",
       "</style>\n",
       "<table border=\"1\" class=\"dataframe\">\n",
       "  <thead>\n",
       "    <tr style=\"text-align: right;\">\n",
       "      <th></th>\n",
       "      <th>open</th>\n",
       "      <th>high</th>\n",
       "      <th>low</th>\n",
       "      <th>close</th>\n",
       "      <th>volume</th>\n",
       "      <th>trade_count</th>\n",
       "      <th>vwap</th>\n",
       "    </tr>\n",
       "    <tr>\n",
       "      <th>timestamp</th>\n",
       "      <th></th>\n",
       "      <th></th>\n",
       "      <th></th>\n",
       "      <th></th>\n",
       "      <th></th>\n",
       "      <th></th>\n",
       "      <th></th>\n",
       "    </tr>\n",
       "  </thead>\n",
       "  <tbody>\n",
       "    <tr>\n",
       "      <th>2018-01-02 09:00:00+00:00</th>\n",
       "      <td>312.0000</td>\n",
       "      <td>312.00</td>\n",
       "      <td>311.80</td>\n",
       "      <td>311.80</td>\n",
       "      <td>500</td>\n",
       "      <td>4</td>\n",
       "      <td>311.871000</td>\n",
       "    </tr>\n",
       "    <tr>\n",
       "      <th>2018-01-02 10:00:00+00:00</th>\n",
       "      <td>311.5000</td>\n",
       "      <td>311.50</td>\n",
       "      <td>311.50</td>\n",
       "      <td>311.50</td>\n",
       "      <td>847</td>\n",
       "      <td>3</td>\n",
       "      <td>311.500000</td>\n",
       "    </tr>\n",
       "    <tr>\n",
       "      <th>2018-01-02 11:00:00+00:00</th>\n",
       "      <td>310.9900</td>\n",
       "      <td>311.89</td>\n",
       "      <td>310.99</td>\n",
       "      <td>311.89</td>\n",
       "      <td>1012</td>\n",
       "      <td>17</td>\n",
       "      <td>311.328360</td>\n",
       "    </tr>\n",
       "    <tr>\n",
       "      <th>2018-01-02 12:00:00+00:00</th>\n",
       "      <td>311.0000</td>\n",
       "      <td>311.29</td>\n",
       "      <td>310.75</td>\n",
       "      <td>311.00</td>\n",
       "      <td>11519</td>\n",
       "      <td>100</td>\n",
       "      <td>310.994353</td>\n",
       "    </tr>\n",
       "    <tr>\n",
       "      <th>2018-01-02 13:00:00+00:00</th>\n",
       "      <td>311.5000</td>\n",
       "      <td>312.00</td>\n",
       "      <td>310.99</td>\n",
       "      <td>311.50</td>\n",
       "      <td>8021</td>\n",
       "      <td>85</td>\n",
       "      <td>311.429299</td>\n",
       "    </tr>\n",
       "    <tr>\n",
       "      <th>...</th>\n",
       "      <td>...</td>\n",
       "      <td>...</td>\n",
       "      <td>...</td>\n",
       "      <td>...</td>\n",
       "      <td>...</td>\n",
       "      <td>...</td>\n",
       "      <td>...</td>\n",
       "    </tr>\n",
       "    <tr>\n",
       "      <th>2018-01-31 19:00:00+00:00</th>\n",
       "      <td>354.8695</td>\n",
       "      <td>355.27</td>\n",
       "      <td>351.57</td>\n",
       "      <td>353.23</td>\n",
       "      <td>717878</td>\n",
       "      <td>6836</td>\n",
       "      <td>353.168927</td>\n",
       "    </tr>\n",
       "    <tr>\n",
       "      <th>2018-01-31 20:00:00+00:00</th>\n",
       "      <td>353.1200</td>\n",
       "      <td>354.97</td>\n",
       "      <td>351.00</td>\n",
       "      <td>354.46</td>\n",
       "      <td>839081</td>\n",
       "      <td>10979</td>\n",
       "      <td>353.272195</td>\n",
       "    </tr>\n",
       "    <tr>\n",
       "      <th>2018-01-31 21:00:00+00:00</th>\n",
       "      <td>354.3100</td>\n",
       "      <td>354.61</td>\n",
       "      <td>353.75</td>\n",
       "      <td>354.00</td>\n",
       "      <td>764607</td>\n",
       "      <td>276</td>\n",
       "      <td>354.309591</td>\n",
       "    </tr>\n",
       "    <tr>\n",
       "      <th>2018-01-31 22:00:00+00:00</th>\n",
       "      <td>353.5000</td>\n",
       "      <td>354.41</td>\n",
       "      <td>353.35</td>\n",
       "      <td>354.41</td>\n",
       "      <td>2287</td>\n",
       "      <td>24</td>\n",
       "      <td>353.929567</td>\n",
       "    </tr>\n",
       "    <tr>\n",
       "      <th>2018-01-31 23:00:00+00:00</th>\n",
       "      <td>354.3000</td>\n",
       "      <td>354.90</td>\n",
       "      <td>354.20</td>\n",
       "      <td>354.31</td>\n",
       "      <td>2742</td>\n",
       "      <td>19</td>\n",
       "      <td>354.396499</td>\n",
       "    </tr>\n",
       "  </tbody>\n",
       "</table>\n",
       "<p>323 rows × 7 columns</p>\n",
       "</div>"
      ],
      "text/plain": [
       "                               open    high     low   close  volume  \\\n",
       "timestamp                                                             \n",
       "2018-01-02 09:00:00+00:00  312.0000  312.00  311.80  311.80     500   \n",
       "2018-01-02 10:00:00+00:00  311.5000  311.50  311.50  311.50     847   \n",
       "2018-01-02 11:00:00+00:00  310.9900  311.89  310.99  311.89    1012   \n",
       "2018-01-02 12:00:00+00:00  311.0000  311.29  310.75  311.00   11519   \n",
       "2018-01-02 13:00:00+00:00  311.5000  312.00  310.99  311.50    8021   \n",
       "...                             ...     ...     ...     ...     ...   \n",
       "2018-01-31 19:00:00+00:00  354.8695  355.27  351.57  353.23  717878   \n",
       "2018-01-31 20:00:00+00:00  353.1200  354.97  351.00  354.46  839081   \n",
       "2018-01-31 21:00:00+00:00  354.3100  354.61  353.75  354.00  764607   \n",
       "2018-01-31 22:00:00+00:00  353.5000  354.41  353.35  354.41    2287   \n",
       "2018-01-31 23:00:00+00:00  354.3000  354.90  354.20  354.31    2742   \n",
       "\n",
       "                           trade_count        vwap  \n",
       "timestamp                                           \n",
       "2018-01-02 09:00:00+00:00            4  311.871000  \n",
       "2018-01-02 10:00:00+00:00            3  311.500000  \n",
       "2018-01-02 11:00:00+00:00           17  311.328360  \n",
       "2018-01-02 12:00:00+00:00          100  310.994353  \n",
       "2018-01-02 13:00:00+00:00           85  311.429299  \n",
       "...                                ...         ...  \n",
       "2018-01-31 19:00:00+00:00         6836  353.168927  \n",
       "2018-01-31 20:00:00+00:00        10979  353.272195  \n",
       "2018-01-31 21:00:00+00:00          276  354.309591  \n",
       "2018-01-31 22:00:00+00:00           24  353.929567  \n",
       "2018-01-31 23:00:00+00:00           19  354.396499  \n",
       "\n",
       "[323 rows x 7 columns]"
      ]
     },
     "execution_count": 15,
     "metadata": {},
     "output_type": "execute_result"
    }
   ],
   "source": [
    "historical_data"
   ]
  },
  {
   "cell_type": "markdown",
   "id": "6cd03f7b",
   "metadata": {},
   "source": [
    "<a id='2'></a>\n",
    "# Monitoring Results - Account Level"
   ]
  },
  {
   "cell_type": "markdown",
   "id": "aabee5a4",
   "metadata": {},
   "source": [
    "\n",
    "## Items on Dashboard\n",
    "\n",
    "* get_all_transactions : List of all transactions and full activity \n",
    "* realized_profit_df : Closed positions\n",
    "* get_open_positions : Open positions  \n",
    "* portfolio_changes_output : charts of PnL and Equity\n",
    "* get_metrics : get all metrics"
   ]
  },
  {
   "cell_type": "markdown",
   "id": "74441891",
   "metadata": {},
   "source": [
    "https://github.com/chunyip135/AlgoQuant_Dashboard\n",
    "https://docs.google.com/spreadsheets/d/1hPxsuwdDvpZpQYG2yi_djwcDG1RDAw1RcS-QZ5prUPo/edit#gid=0\n",
    "https://datastudio.google.com/u/0/reporting/632a4e76-496c-4ab5-8e8f-85296118e961/page/dZktC?s=olg3z5e2JEI\n",
    "\n",
    "Error for crypto : https://forum.alpaca.markets/t/quantity-error-when-replacing-partially-filled-sell-order/4329/2\n"
   ]
  },
  {
   "cell_type": "code",
   "execution_count": 16,
   "id": "fb5448c8",
   "metadata": {},
   "outputs": [],
   "source": [
    "#get_all_transactions(api)\n",
    "#api.get_portfolio_history(trade)\n",
    "#api.list_positions()\n"
   ]
  },
  {
   "cell_type": "code",
   "execution_count": 19,
   "id": "15fd716c",
   "metadata": {},
   "outputs": [],
   "source": [
    "# # result = api.get_activities()\n",
    "# result = api.get_activities()\n",
    "\n",
    "# result_df = pd.DataFrame()\n",
    "\n",
    "# print(result)"
   ]
  },
  {
   "cell_type": "code",
   "execution_count": 20,
   "id": "a051a248",
   "metadata": {},
   "outputs": [],
   "source": [
    "#positions = get_open_positions(api)\n",
    "#positions"
   ]
  },
  {
   "cell_type": "code",
   "execution_count": null,
   "id": "ec61aeaf",
   "metadata": {},
   "outputs": [],
   "source": []
  },
  {
   "cell_type": "markdown",
   "id": "3ccf2286",
   "metadata": {},
   "source": [
    "## Function 1 - All orders and PnL"
   ]
  },
  {
   "cell_type": "code",
   "execution_count": 21,
   "id": "79248d98",
   "metadata": {},
   "outputs": [],
   "source": [
    "def get_all_transactions(api):\n",
    "    result = api.get_activities()\n",
    "\n",
    "    result_df = pd.DataFrame()\n",
    "\n",
    "    #print(result[0]) # cum_qty, price, symbol, transaction_time\n",
    "\n",
    "    result_df = pd.DataFrame(columns = ['Qty','price','symbol','transaction_time'])\n",
    "\n",
    "    qty_list = []\n",
    "    price_list = []\n",
    "    symbol_list = []\n",
    "    transaction_time_list = []\n",
    "    type_list = []\n",
    "\n",
    "    for res in result:\n",
    "        qty_list.append(res.cum_qty)\n",
    "        price_list.append(res.price)\n",
    "        symbol_list.append(res.symbol)\n",
    "        transaction_time_list.append(res.transaction_time)\n",
    "        type_list.append(res.side)\n",
    "\n",
    "\n",
    "\n",
    "    result_df = pd.DataFrame({\n",
    "        'Qty': qty_list, \n",
    "        'Price': price_list, \n",
    "        'Symbol': symbol_list, \n",
    "        'Transaction_time': transaction_time_list, \n",
    "        'Type': type_list})\n",
    "\n",
    "    return result_df"
   ]
  },
  {
   "cell_type": "code",
   "execution_count": 22,
   "id": "48b9a623",
   "metadata": {},
   "outputs": [
    {
     "data": {
      "text/html": [
       "<div>\n",
       "<style scoped>\n",
       "    .dataframe tbody tr th:only-of-type {\n",
       "        vertical-align: middle;\n",
       "    }\n",
       "\n",
       "    .dataframe tbody tr th {\n",
       "        vertical-align: top;\n",
       "    }\n",
       "\n",
       "    .dataframe thead th {\n",
       "        text-align: right;\n",
       "    }\n",
       "</style>\n",
       "<table border=\"1\" class=\"dataframe\">\n",
       "  <thead>\n",
       "    <tr style=\"text-align: right;\">\n",
       "      <th></th>\n",
       "      <th>Qty</th>\n",
       "      <th>Price</th>\n",
       "      <th>Symbol</th>\n",
       "      <th>Transaction_time</th>\n",
       "      <th>Type</th>\n",
       "    </tr>\n",
       "  </thead>\n",
       "  <tbody>\n",
       "    <tr>\n",
       "      <th>0</th>\n",
       "      <td>1</td>\n",
       "      <td>16195.41</td>\n",
       "      <td>BTC/USD</td>\n",
       "      <td>2022-11-21 06:01:19.581237+00:00</td>\n",
       "      <td>buy</td>\n",
       "    </tr>\n",
       "  </tbody>\n",
       "</table>\n",
       "</div>"
      ],
      "text/plain": [
       "  Qty     Price   Symbol                 Transaction_time Type\n",
       "0   1  16195.41  BTC/USD 2022-11-21 06:01:19.581237+00:00  buy"
      ]
     },
     "execution_count": 22,
     "metadata": {},
     "output_type": "execute_result"
    }
   ],
   "source": [
    "result_df = get_all_transactions(api)\n",
    "result_df"
   ]
  },
  {
   "cell_type": "code",
   "execution_count": 23,
   "id": "4b640ac3",
   "metadata": {},
   "outputs": [
    {
     "data": {
      "text/plain": [
       "99997.17"
      ]
     },
     "execution_count": 23,
     "metadata": {},
     "output_type": "execute_result"
    }
   ],
   "source": [
    "100000 - (1133.37-1130.54)"
   ]
  },
  {
   "cell_type": "code",
   "execution_count": 24,
   "id": "5a5de400",
   "metadata": {},
   "outputs": [
    {
     "data": {
      "text/plain": [
       "99957.9985"
      ]
     },
     "execution_count": 24,
     "metadata": {},
     "output_type": "execute_result"
    }
   ],
   "source": [
    "(1*16084.2885)-1*16126.29  + 100000"
   ]
  },
  {
   "cell_type": "code",
   "execution_count": 25,
   "id": "b9457d0a",
   "metadata": {},
   "outputs": [
    {
     "data": {
      "text/plain": [
       "40.49"
      ]
     },
     "execution_count": 25,
     "metadata": {},
     "output_type": "execute_result"
    }
   ],
   "source": [
    "40.49\n"
   ]
  },
  {
   "cell_type": "code",
   "execution_count": 26,
   "id": "1e32c1d9",
   "metadata": {},
   "outputs": [
    {
     "data": {
      "text/plain": [
       "40.488524999999136"
      ]
     },
     "execution_count": 26,
     "metadata": {},
     "output_type": "execute_result"
    }
   ],
   "source": [
    "16195.41*(1-.9975)"
   ]
  },
  {
   "cell_type": "code",
   "execution_count": 27,
   "id": "1c9329fa",
   "metadata": {},
   "outputs": [
    {
     "data": {
      "text/plain": [
       "[Position({   'asset_class': 'crypto',\n",
       "     'asset_id': '64bbff51-59d6-4b3c-9351-13ad85e3c752',\n",
       "     'asset_marginable': False,\n",
       "     'avg_entry_price': '16195.41',\n",
       "     'change_today': '-0.0069204338987929',\n",
       "     'cost_basis': '16154.921475',\n",
       "     'current_price': '16561.29',\n",
       "     'exchange': 'FTXU',\n",
       "     'lastday_price': '16676.7',\n",
       "     'market_value': '16519.886775',\n",
       "     'qty': '0.9975',\n",
       "     'qty_available': '0.9975',\n",
       "     'side': 'long',\n",
       "     'symbol': 'BTCUSD',\n",
       "     'unrealized_intraday_pl': '-115.121475',\n",
       "     'unrealized_intraday_plpc': '-0.0069204338987929',\n",
       "     'unrealized_pl': '364.9653',\n",
       "     'unrealized_plpc': '0.02259158613459'})]"
      ]
     },
     "execution_count": 27,
     "metadata": {},
     "output_type": "execute_result"
    }
   ],
   "source": [
    "api.list_positions() "
   ]
  },
  {
   "cell_type": "code",
   "execution_count": 28,
   "id": "ab7dadbc",
   "metadata": {},
   "outputs": [],
   "source": [
    "#api.get_portfolio_history()"
   ]
  },
  {
   "cell_type": "code",
   "execution_count": 29,
   "id": "22c59c18",
   "metadata": {},
   "outputs": [
    {
     "data": {
      "text/html": [
       "<div>\n",
       "<style scoped>\n",
       "    .dataframe tbody tr th:only-of-type {\n",
       "        vertical-align: middle;\n",
       "    }\n",
       "\n",
       "    .dataframe tbody tr th {\n",
       "        vertical-align: top;\n",
       "    }\n",
       "\n",
       "    .dataframe thead th {\n",
       "        text-align: right;\n",
       "    }\n",
       "</style>\n",
       "<table border=\"1\" class=\"dataframe\">\n",
       "  <thead>\n",
       "    <tr style=\"text-align: right;\">\n",
       "      <th></th>\n",
       "      <th>Qty</th>\n",
       "      <th>Price</th>\n",
       "      <th>Symbol</th>\n",
       "      <th>Transaction_time</th>\n",
       "      <th>Type</th>\n",
       "    </tr>\n",
       "  </thead>\n",
       "  <tbody>\n",
       "    <tr>\n",
       "      <th>0</th>\n",
       "      <td>1</td>\n",
       "      <td>16195.41</td>\n",
       "      <td>BTC/USD</td>\n",
       "      <td>2022-11-21 06:01:19.581237+00:00</td>\n",
       "      <td>buy</td>\n",
       "    </tr>\n",
       "  </tbody>\n",
       "</table>\n",
       "</div>"
      ],
      "text/plain": [
       "  Qty     Price   Symbol                 Transaction_time Type\n",
       "0   1  16195.41  BTC/USD 2022-11-21 06:01:19.581237+00:00  buy"
      ]
     },
     "execution_count": 29,
     "metadata": {},
     "output_type": "execute_result"
    }
   ],
   "source": [
    "get_all_transactions(api)"
   ]
  },
  {
   "cell_type": "code",
   "execution_count": 30,
   "id": "6cd08437",
   "metadata": {},
   "outputs": [],
   "source": [
    "def realized_profit_df(api):\n",
    "\n",
    "    result_df = get_all_transactions(api)\n",
    "\n",
    "    df_buy = result_df[result_df.Type == 'buy']\n",
    "\n",
    "    df_sell = result_df[result_df.Type == 'sell']\n",
    "\n",
    "    df = pd.merge(df_buy, df_sell, on = 'Symbol', how = 'right', suffixes = ['_buy','_sell'])\n",
    "\n",
    "    #print(df_sell)\n",
    "\n",
    "    testing = df_sell.sort_values(by = 'Transaction_time')\n",
    "\n",
    "    testing['Price'] = testing.Price.astype('float')\n",
    "    df_buy['Price'] = df_buy.Price.astype('float')\n",
    "\n",
    "    output_frame = pd.DataFrame(columns = ['Symbol', 'Qty','Avg_cost','Avg_holding_period',\n",
    "                                 'Earliest_buy_time','Latest_buy_time','Sell_time','Profit_per_unit','Total Profit', 'Winning_bet?'])\n",
    "\n",
    "    for sym in testing.Symbol.unique():\n",
    "        #print(sym)\n",
    "        buy = df_buy.loc[df_buy.Symbol == sym]\n",
    "        sell = testing.loc[testing.Symbol == sym]\n",
    "\n",
    "        obs = [] # completed sell\\'s index\n",
    "        for i, row in sell.iterrows():\n",
    "            output_dic = {}\n",
    "            if i not in obs:\n",
    "                out = buy.loc[(buy.Transaction_time < row.Transaction_time)]\n",
    "                idx = [j for j in out.index if j not in obs]\n",
    "                out = out.loc[idx]\n",
    "                print(row, out.shape[0], int(round(float(row.Qty))))\n",
    "                assert out.shape[0] == int(round(float(row.Qty)))\n",
    "                \n",
    "                #assert out.shape[0] == row.Qty\n",
    "                # Avg_cost\n",
    "                #print(row.Price - out.groupby('Symbol').Price.mean())\n",
    "                #print(row.Transaction_time - out.groupby('Symbol').Transaction_time.mean())\n",
    "                output_dict = {'Symbol': sym, \n",
    "                               'Qty': int(round(float(row.Qty))), \n",
    "                               'Avg_cost': round(out.groupby('Symbol').Price.mean()[0],2),\n",
    "                               'Avg_holding_period': (row.Transaction_time - out.groupby('Symbol').Transaction_time.mean())[0],\n",
    "                               'Earliest_buy_time': out.groupby('Symbol').Transaction_time.min()[0],\n",
    "                               'Latest_buy_time': out.groupby('Symbol').Transaction_time.max()[0],\n",
    "                               'Sell_time': row.Transaction_time,\n",
    "                               'Profit_per_unit': round(row.Price - out.groupby('Symbol').Price.mean()[0],2),\n",
    "                               'Total Profit': round((row.Price - out.groupby('Symbol').Price.mean())[0] * int(round(float(row.Qty))),2),\n",
    "                               'Winning_bet?': True if round(row.Price - out.groupby('Symbol').Price.mean()[0],2) > 0 else False}\n",
    "                output_frame = output_frame.append(output_dict, ignore_index = True)\n",
    "                \n",
    "                if len(idx) > 1:\n",
    "                    for ix in idx:\n",
    "                        obs.append(ix)\n",
    "                else:\n",
    "                    obs.append(idx[0])\n",
    "            \n",
    "\n",
    "    output_frame = output_frame.sort_values('Sell_time', ascending = False)\n",
    "    output_frame['Avg_holding_period'] = output_frame['Avg_holding_period'].apply(lambda x: x.days)\n",
    "\n",
    "    return output_frame"
   ]
  },
  {
   "cell_type": "code",
   "execution_count": 31,
   "id": "d4b1c756",
   "metadata": {},
   "outputs": [
    {
     "data": {
      "text/html": [
       "<div>\n",
       "<style scoped>\n",
       "    .dataframe tbody tr th:only-of-type {\n",
       "        vertical-align: middle;\n",
       "    }\n",
       "\n",
       "    .dataframe tbody tr th {\n",
       "        vertical-align: top;\n",
       "    }\n",
       "\n",
       "    .dataframe thead th {\n",
       "        text-align: right;\n",
       "    }\n",
       "</style>\n",
       "<table border=\"1\" class=\"dataframe\">\n",
       "  <thead>\n",
       "    <tr style=\"text-align: right;\">\n",
       "      <th></th>\n",
       "      <th>Symbol</th>\n",
       "      <th>Qty</th>\n",
       "      <th>Avg_cost</th>\n",
       "      <th>Avg_holding_period</th>\n",
       "      <th>Earliest_buy_time</th>\n",
       "      <th>Latest_buy_time</th>\n",
       "      <th>Sell_time</th>\n",
       "      <th>Profit_per_unit</th>\n",
       "      <th>Total Profit</th>\n",
       "      <th>Winning_bet?</th>\n",
       "    </tr>\n",
       "  </thead>\n",
       "  <tbody>\n",
       "  </tbody>\n",
       "</table>\n",
       "</div>"
      ],
      "text/plain": [
       "Empty DataFrame\n",
       "Columns: [Symbol, Qty, Avg_cost, Avg_holding_period, Earliest_buy_time, Latest_buy_time, Sell_time, Profit_per_unit, Total Profit, Winning_bet?]\n",
       "Index: []"
      ]
     },
     "execution_count": 31,
     "metadata": {},
     "output_type": "execute_result"
    }
   ],
   "source": [
    "realized_profit_df(api)"
   ]
  },
  {
   "cell_type": "markdown",
   "id": "16d784c6",
   "metadata": {},
   "source": [
    "### Function 2 - portfolio changes and metrics"
   ]
  },
  {
   "cell_type": "code",
   "execution_count": 32,
   "id": "79ebec3e",
   "metadata": {},
   "outputs": [],
   "source": [
    "from alpaca_trade_api.rest import REST, TimeFrame\n",
    "import pandas as pd \n",
    "import numpy as np\n",
    "import os\n",
    "from alpaca_trade_api import REST\n",
    "\n",
    "import datetime as dt\n",
    "\n",
    "def get_trading_cal(api):\n",
    "    cal = api.get_calendar()\n",
    "    cal_ls = []\n",
    "    for c in cal:\n",
    "        cal_ls.append(c.date)\n",
    "      \n",
    "    cal_ls = pd.Series(cal_ls)\n",
    "    return cal_ls\n",
    "\n",
    "def get_portfolio_changes(api):\n",
    "    \n",
    "    acc_start = api.get_account().created_at.strftime('%Y-%m-%d') # the date where account was created\n",
    "\n",
    "    cal_ls = get_trading_cal(api) # obtain trading calendar\n",
    "\n",
    "    # Obtain the trading days that were between the account created date and today, then convert to date format\n",
    "    trading_days = cal_ls[(cal_ls >= acc_start) & (cal_ls < dt.datetime.strftime(dt.datetime.today(), '%Y-%m-%d'))]\n",
    "    trading_days = trading_days.apply(lambda x: dt.datetime.strftime(x, '%Y-%m-%d'))\n",
    "\n",
    "    # Obtain the portfolio changes\n",
    "    df_trade = pd.DataFrame(columns = ['timestamp','equity','pnl','pnl (pct)'])\n",
    "\n",
    "    for trade in trading_days:\n",
    "        result = api.get_portfolio_history(trade)\n",
    "        profit_loss = result.profit_loss\n",
    "        pnl_pct = result.profit_loss_pct\n",
    "        timestamp = [dt.datetime.fromtimestamp(val).strftime('%Y-%m-%d %H:%M') for val in result.timestamp]\n",
    "        df_trade = pd.concat([df_trade, pd.DataFrame({'timestamp': timestamp, 'equity': result.equity, 'pnl':profit_loss, 'pnl (pct)': pnl_pct })], axis = 0)\n",
    "\n",
    "    # Remove duplicates record with the same date\n",
    "    df_trade = df_trade.sort_values(by = 'timestamp').drop_duplicates(subset = ['timestamp'],ignore_index=True, keep = 'first')\n",
    "\n",
    "    df_trade['date'] = df_trade['timestamp'].apply(lambda x: x[:10])\n",
    "\n",
    "    # Only query the last record of the day for intraday changes\n",
    "    df_agg = df_trade.groupby('date').last()\n",
    "    df_agg = df_agg.reset_index().drop('timestamp', axis = 1)\n",
    "\n",
    "    max_drawdown = 10000 - df_agg.equity.min()\n",
    "    \n",
    "    return df_agg, max_drawdown"
   ]
  },
  {
   "cell_type": "code",
   "execution_count": 33,
   "id": "742c7bab",
   "metadata": {},
   "outputs": [],
   "source": [
    "from alpaca_trade_api.rest import REST, TimeFrame\n",
    "import pandas as pd \n",
    "import numpy as np\n",
    "import os\n",
    "#import pygsheets\n",
    "\n",
    "# from ta.momentum  import RSIIndicator  \n",
    "# from ta.trend import SMAIndicator\n",
    "import warnings\n",
    "warnings.filterwarnings(\"ignore\")\n",
    "\n",
    "import datetime as dt\n",
    "import time \n",
    "\n",
    "def get_metrics(api, max_drawdown):\n",
    "\tacc_details = api.get_account()\n",
    "\tcash_balance = acc_details.cash\n",
    "\tportfolio_value = acc_details.portfolio_value\n",
    "\tacc_status = acc_details.status\n",
    "\tlong_market_value = acc_details.long_market_value\n",
    "\n",
    "\toutput = pd.DataFrame({\n",
    "\t\t\t\t'cash_balance': [cash_balance],\n",
    "\t\t\t\t'portfolio_value': [portfolio_value],\n",
    "\t\t\t\t'long_market_value': [long_market_value],\n",
    "\t\t\t\t'last_updated':  [dt.datetime.today().strftime('%Y-%m-%d %H:%M')],\n",
    "\t\t\t\t'max_drawdown': [max_drawdown]\n",
    "\t\t\t\t})\n",
    "\n",
    "\treturn output"
   ]
  },
  {
   "cell_type": "code",
   "execution_count": 34,
   "id": "8046ccf2",
   "metadata": {},
   "outputs": [
    {
     "data": {
      "text/plain": [
       "Account({   'account_blocked': False,\n",
       "    'account_number': 'PA3S324PUZ2M',\n",
       "    'accrued_fees': '0',\n",
       "    'balance_asof': '2022-11-23',\n",
       "    'bod_dtbp': '0',\n",
       "    'buying_power': '167609.18',\n",
       "    'cash': '83804.59',\n",
       "    'created_at': '2022-11-21T06:00:15.912605Z',\n",
       "    'crypto_status': 'ACTIVE',\n",
       "    'crypto_tier': 0,\n",
       "    'currency': 'USD',\n",
       "    'daytrade_count': 0,\n",
       "    'daytrading_buying_power': '0',\n",
       "    'effective_buying_power': '167609.18',\n",
       "    'equity': '100324.476775',\n",
       "    'id': 'cb6a8e49-bfac-426c-ae92-8248b254c0a5',\n",
       "    'initial_margin': '0',\n",
       "    'last_equity': '100480.43',\n",
       "    'last_maintenance_margin': '0',\n",
       "    'long_market_value': '16519.886775',\n",
       "    'maintenance_margin': '0',\n",
       "    'multiplier': '2',\n",
       "    'non_marginable_buying_power': '83804.59',\n",
       "    'pattern_day_trader': False,\n",
       "    'pending_transfer_in': '0',\n",
       "    'portfolio_value': '100324.476775',\n",
       "    'position_market_value': '16519.886775',\n",
       "    'regt_buying_power': '167609.18',\n",
       "    'short_market_value': '0',\n",
       "    'shorting_enabled': True,\n",
       "    'sma': '83804.59',\n",
       "    'status': 'ACTIVE',\n",
       "    'trade_suspended_by_user': False,\n",
       "    'trading_blocked': False,\n",
       "    'transfers_blocked': False})"
      ]
     },
     "execution_count": 34,
     "metadata": {},
     "output_type": "execute_result"
    }
   ],
   "source": [
    "api.get_account()"
   ]
  },
  {
   "cell_type": "code",
   "execution_count": 35,
   "id": "eeb1eaab",
   "metadata": {},
   "outputs": [
    {
     "data": {
      "text/plain": [
       "{'1D':                            profit_loss  profit_loss_pct     equity\n",
       " timestamp                                                         \n",
       " 2022-11-23 20:00:00-05:00    177.25575                0  100480.43,\n",
       " '2D':                            profit_loss  profit_loss_pct     equity\n",
       " timestamp                                                         \n",
       " 2022-11-22 20:00:00-05:00   641.921175         0.000000  100304.71\n",
       " 2022-11-23 20:00:00-05:00   177.255750         0.001767  100480.43,\n",
       " '3D':                            profit_loss  profit_loss_pct     equity\n",
       " timestamp                                                         \n",
       " 2022-11-21 20:00:00-05:00  -339.090150         0.000000   99660.06\n",
       " 2022-11-22 20:00:00-05:00   641.921175         0.006441  100304.71\n",
       " 2022-11-23 20:00:00-05:00   177.255750         0.008220  100480.43,\n",
       " '7D':                            profit_loss  profit_loss_pct     equity\n",
       " timestamp                                                         \n",
       " 2022-11-17 20:00:00-05:00     0.000000         0.000000  100000.00\n",
       " 2022-11-18 20:00:00-05:00     0.000000         0.000000  100000.00\n",
       " 2022-11-21 20:00:00-05:00  -339.090150        -0.003391   99660.06\n",
       " 2022-11-22 20:00:00-05:00   641.921175         0.003028  100304.71\n",
       " 2022-11-23 20:00:00-05:00   177.255750         0.004801  100480.43}"
      ]
     },
     "execution_count": 35,
     "metadata": {},
     "output_type": "execute_result"
    }
   ],
   "source": [
    "histpd={}\n",
    "for pd in ['1D', '2D', '3D', '7D']:\n",
    "    hist = api.get_portfolio_history(\n",
    "        period=pd,\n",
    "        extended_hours=True,\n",
    "        timeframe='1D'\n",
    "    ).df\n",
    "    histpd[pd] = hist\n",
    "histpd"
   ]
  },
  {
   "cell_type": "code",
   "execution_count": 36,
   "id": "ebb1569d",
   "metadata": {},
   "outputs": [
    {
     "ename": "AttributeError",
     "evalue": "'str' object has no attribute 'Series'",
     "output_type": "error",
     "traceback": [
      "\u001b[1;31m---------------------------------------------------------------------------\u001b[0m",
      "\u001b[1;31mAttributeError\u001b[0m                            Traceback (most recent call last)",
      "\u001b[1;32m~\\AppData\\Local\\Temp\\ipykernel_64736\\1395790004.py\u001b[0m in \u001b[0;36m<module>\u001b[1;34m\u001b[0m\n\u001b[1;32m----> 1\u001b[1;33m \u001b[0mportfolio_changes_output\u001b[0m\u001b[1;33m,\u001b[0m \u001b[0mmax_drawdown\u001b[0m \u001b[1;33m=\u001b[0m \u001b[0mget_portfolio_changes\u001b[0m\u001b[1;33m(\u001b[0m\u001b[0mapi\u001b[0m\u001b[1;33m)\u001b[0m\u001b[1;33m\u001b[0m\u001b[1;33m\u001b[0m\u001b[0m\n\u001b[0m\u001b[0;32m      2\u001b[0m \u001b[0mmetrics_output\u001b[0m \u001b[1;33m=\u001b[0m \u001b[0mget_metrics\u001b[0m\u001b[1;33m(\u001b[0m\u001b[0mapi\u001b[0m\u001b[1;33m,\u001b[0m \u001b[0mmax_drawdown\u001b[0m\u001b[1;33m)\u001b[0m\u001b[1;33m\u001b[0m\u001b[1;33m\u001b[0m\u001b[0m\n",
      "\u001b[1;32m~\\AppData\\Local\\Temp\\ipykernel_64736\\3460889338.py\u001b[0m in \u001b[0;36mget_portfolio_changes\u001b[1;34m(api)\u001b[0m\n\u001b[0;32m     20\u001b[0m     \u001b[0macc_start\u001b[0m \u001b[1;33m=\u001b[0m \u001b[0mapi\u001b[0m\u001b[1;33m.\u001b[0m\u001b[0mget_account\u001b[0m\u001b[1;33m(\u001b[0m\u001b[1;33m)\u001b[0m\u001b[1;33m.\u001b[0m\u001b[0mcreated_at\u001b[0m\u001b[1;33m.\u001b[0m\u001b[0mstrftime\u001b[0m\u001b[1;33m(\u001b[0m\u001b[1;34m'%Y-%m-%d'\u001b[0m\u001b[1;33m)\u001b[0m \u001b[1;31m# the date where account was created\u001b[0m\u001b[1;33m\u001b[0m\u001b[1;33m\u001b[0m\u001b[0m\n\u001b[0;32m     21\u001b[0m \u001b[1;33m\u001b[0m\u001b[0m\n\u001b[1;32m---> 22\u001b[1;33m     \u001b[0mcal_ls\u001b[0m \u001b[1;33m=\u001b[0m \u001b[0mget_trading_cal\u001b[0m\u001b[1;33m(\u001b[0m\u001b[0mapi\u001b[0m\u001b[1;33m)\u001b[0m \u001b[1;31m# obtain trading calendar\u001b[0m\u001b[1;33m\u001b[0m\u001b[1;33m\u001b[0m\u001b[0m\n\u001b[0m\u001b[0;32m     23\u001b[0m \u001b[1;33m\u001b[0m\u001b[0m\n\u001b[0;32m     24\u001b[0m     \u001b[1;31m# Obtain the trading days that were between the account created date and today, then convert to date format\u001b[0m\u001b[1;33m\u001b[0m\u001b[1;33m\u001b[0m\u001b[0m\n",
      "\u001b[1;32m~\\AppData\\Local\\Temp\\ipykernel_64736\\3460889338.py\u001b[0m in \u001b[0;36mget_trading_cal\u001b[1;34m(api)\u001b[0m\n\u001b[0;32m     13\u001b[0m         \u001b[0mcal_ls\u001b[0m\u001b[1;33m.\u001b[0m\u001b[0mappend\u001b[0m\u001b[1;33m(\u001b[0m\u001b[0mc\u001b[0m\u001b[1;33m.\u001b[0m\u001b[0mdate\u001b[0m\u001b[1;33m)\u001b[0m\u001b[1;33m\u001b[0m\u001b[1;33m\u001b[0m\u001b[0m\n\u001b[0;32m     14\u001b[0m \u001b[1;33m\u001b[0m\u001b[0m\n\u001b[1;32m---> 15\u001b[1;33m     \u001b[0mcal_ls\u001b[0m \u001b[1;33m=\u001b[0m \u001b[0mpd\u001b[0m\u001b[1;33m.\u001b[0m\u001b[0mSeries\u001b[0m\u001b[1;33m(\u001b[0m\u001b[0mcal_ls\u001b[0m\u001b[1;33m)\u001b[0m\u001b[1;33m\u001b[0m\u001b[1;33m\u001b[0m\u001b[0m\n\u001b[0m\u001b[0;32m     16\u001b[0m     \u001b[1;32mreturn\u001b[0m \u001b[0mcal_ls\u001b[0m\u001b[1;33m\u001b[0m\u001b[1;33m\u001b[0m\u001b[0m\n\u001b[0;32m     17\u001b[0m \u001b[1;33m\u001b[0m\u001b[0m\n",
      "\u001b[1;31mAttributeError\u001b[0m: 'str' object has no attribute 'Series'"
     ]
    }
   ],
   "source": [
    "portfolio_changes_output, max_drawdown = get_portfolio_changes(api)\n",
    "metrics_output = get_metrics(api, max_drawdown)"
   ]
  },
  {
   "cell_type": "code",
   "execution_count": null,
   "id": "953ab016",
   "metadata": {},
   "outputs": [],
   "source": [
    "portfolio_changes_output"
   ]
  },
  {
   "cell_type": "code",
   "execution_count": null,
   "id": "eab37ff8",
   "metadata": {},
   "outputs": [],
   "source": [
    "portfolio_changes_output['pnl'].plot()"
   ]
  },
  {
   "cell_type": "code",
   "execution_count": null,
   "id": "5dcf0c25",
   "metadata": {},
   "outputs": [],
   "source": [
    "portfolio_changes_output['equity'].plot()"
   ]
  },
  {
   "cell_type": "code",
   "execution_count": null,
   "id": "015bf60c",
   "metadata": {},
   "outputs": [],
   "source": [
    "metrics_output"
   ]
  },
  {
   "cell_type": "markdown",
   "id": "225a07c4",
   "metadata": {},
   "source": [
    "## Function 3 - unrealized pnl"
   ]
  },
  {
   "cell_type": "code",
   "execution_count": null,
   "id": "c6e4af4f",
   "metadata": {},
   "outputs": [],
   "source": [
    "from alpaca_trade_api.rest import REST, TimeFrame\n",
    "import pandas as pd \n",
    "import numpy as np\n",
    "import os\n",
    "#import pygsheets\n",
    "\n",
    "# from ta.momentum  import RSIIndicator  \n",
    "# from ta.trend import SMAIndicator\n",
    "import warnings\n",
    "warnings.filterwarnings(\"ignore\")\n",
    "\n",
    "import datetime as dt\n",
    "import time \n",
    "\n",
    "def get_open_positions(api):\n",
    "\topen_positions = api.list_positions()\n",
    "\n",
    "\tasset_class_ls = []\n",
    "\tavg_entry_price_ls = []\n",
    "\tchange_today_ls = []\n",
    "\tcost_basis_ls = []\n",
    "\tcurrent_price_ls = []\n",
    "\texchange_ls = []\n",
    "\tlastday_price_ls = []\n",
    "\tmarket_value_ls = []\n",
    "\tqty_ls = []\n",
    "\tside_ls = []\n",
    "\tsymbol_ls = []\n",
    "\tunrealized_intraday_pl_ls = []\n",
    "\tunrealized_intraday_plpc_ls = []\n",
    "\tunrealized_pl_ls = []\n",
    "\tunrealized_plpc_ls = []\n",
    "\n",
    "\tfor pos in open_positions:\n",
    "\t    asset_class_ls.append(pos.asset_class)\n",
    "\t    avg_entry_price_ls.append(pos.avg_entry_price)\n",
    "\t    change_today_ls.append(pos.change_today)\n",
    "\t    cost_basis_ls.append(pos.cost_basis)\n",
    "\t    current_price_ls.append(pos.current_price)\n",
    "\t    exchange_ls.append(pos.exchange)\n",
    "\t    lastday_price_ls.append(pos.lastday_price)\n",
    "\t    market_value_ls.append(pos.market_value)\n",
    "\t    qty_ls.append(pos.qty)\n",
    "\t    side_ls.append(pos.side)\n",
    "\t    symbol_ls.append(pos.symbol)\n",
    "\t    unrealized_intraday_pl_ls.append(pos.unrealized_intraday_pl)\n",
    "\t    unrealized_intraday_plpc_ls.append(pos.unrealized_intraday_plpc)\n",
    "\t    unrealized_pl_ls.append(pos.unrealized_pl)\n",
    "\t    unrealized_plpc_ls.append(pos.unrealized_plpc)\n",
    "\t    \n",
    "\top_df = pd.DataFrame({'Symbol': symbol_ls, \n",
    "\t                      'Asset_class': asset_class_ls, \n",
    "\t                      'Qty': qty_ls,\n",
    "\t                      'Avg_entry_price': avg_entry_price_ls,\n",
    "\t                      'Change_today': change_today_ls,\n",
    "\t                      'Cost_basis': cost_basis_ls, \n",
    "\t                      'Current_price': current_price_ls,\n",
    "\t                      'Exchange': exchange_ls,\n",
    "\t                      'Lastday_price': lastday_price_ls,\n",
    "\t                      'Market_value': market_value_ls,\n",
    "\t                      'Side': side_ls,\n",
    "\t                      'Unrealized_intraday_pl ($)': unrealized_intraday_pl_ls,\n",
    "\t                      'Unrealized_intraday_pl (%)': unrealized_intraday_plpc_ls,\n",
    "\t                      'Unrealized_pl ($)': unrealized_pl_ls,\n",
    "\t                      'Unrealized_pl (%)': unrealized_plpc_ls\n",
    "\t                     })\n",
    "\n",
    "\t# Convert the columns format\n",
    "\top_df['Avg_entry_price'] = op_df['Avg_entry_price'].astype('float')\n",
    "\top_df['Change_today'] = op_df['Change_today'].astype('float')\n",
    "\top_df['Current_price'] = op_df['Current_price'].astype('float')\n",
    "\top_df['Lastday_price'] = op_df['Lastday_price'].astype('float')\n",
    "\top_df['Market_value'] = op_df['Market_value'].astype('float')\n",
    "\top_df['Unrealized_intraday_pl ($)'] = op_df['Unrealized_intraday_pl ($)'].astype('float')\n",
    "\top_df['Unrealized_intraday_pl (%)'] = op_df['Unrealized_intraday_pl (%)'].astype('float')\n",
    "\top_df['Unrealized_pl ($)'] = op_df['Unrealized_pl ($)'].astype('float')\n",
    "\top_df['Unrealized_pl (%)'] = op_df['Unrealized_pl (%)'].astype('float')\n",
    "\top_df['Qty'] = op_df['Qty'].astype('float')\n",
    "\n",
    "\top_df['Avg_entry_price'] = op_df.Avg_entry_price.round(2)\n",
    "\n",
    "\top_df = op_df.sort_values(by = 'Unrealized_pl (%)', ascending = False)\n",
    "\top_df['Unrealized_pl (%)'] = op_df['Unrealized_pl (%)'].mul(100)\n",
    "\top_df['Unrealized_intraday_pl (%)'] = op_df['Unrealized_intraday_pl (%)'].mul(100)\n",
    "\n",
    "\treturn op_df\n",
    "\n",
    "\n",
    "def get_trading_cal(api):\n",
    "    cal = api.get_calendar()\n",
    "    cal_ls = []\n",
    "    for c in cal:\n",
    "        cal_ls.append(c.date)\n",
    "      \n",
    "    cal_ls = pd.Series(cal_ls)\n",
    "    return cal_ls\n",
    "\n",
    "def get_data(api, stock_ls, start, end = None):\n",
    "    \n",
    "  # first_half\n",
    "    indexes = np.arange(0,len(stock_ls),5)\n",
    "    for i in range(len(indexes)-1):\n",
    "        data = api.get_bars(\n",
    "                      symbol =  stock_ls[indexes[i]:indexes[i+1]],\n",
    "                      timeframe = TimeFrame.Day,\n",
    "                      start = start,\n",
    "                      end = end,\n",
    "                      limit = 10000,\n",
    "                      adjustment= 'raw',\n",
    "                      ).df\n",
    "        if i == 0:\n",
    "            db = data\n",
    "        else:\n",
    "            db = db.append(data)\n",
    "    return db\n",
    "\n",
    "# def RSI_SMA(data, symbol_list):\n",
    "#     alerts = []\n",
    "#     for symbol in symbol_list:\n",
    "#         df = data.loc[data.symbol == symbol] # get individual stock price\n",
    "\n",
    "\n",
    "#         # Calculate technical indicators\n",
    "#         rsi4 = RSIIndicator(df.close, window = 4)\n",
    "\n",
    "#         sma200 = SMAIndicator(df.close, 200)\n",
    "\n",
    "#         df['rsi4'] = rsi4.rsi()\n",
    "#         df['sma200'] = sma200.sma_indicator()\n",
    "        \n",
    "#         try:\n",
    "#             latest = df.iloc[-1,:] # obtain latest indicators' values\n",
    "#         except:\n",
    "#             alerts.append([symbol,None, None])\n",
    "\n",
    "#         alerts.append([symbol,latest.rsi4, latest.sma200])\n",
    "\n",
    "#     alerts_df = pd.DataFrame(alerts, columns=['Symbol','RSI4','SMA200'])\n",
    "#     alerts_df.set_index('Symbol', inplace = True)\n",
    "\n",
    "#     return alerts_df\n",
    "\n",
    "def full_df_pipeline(api):\n",
    "\n",
    "\top_df = get_open_positions(api)\n",
    "\n",
    "\tcal_ls = get_trading_cal(api)\n",
    "\ttdy_date = dt.datetime.strftime(dt.datetime.today(), format = '%Y-%m-%d')\n",
    "\tlast_trading_date = pd.Timestamp(cal_ls[cal_ls[cal_ls <= tdy_date].index[-3]]).strftime('%Y-%m-%d')\n",
    "\tprint(last_trading_date)\n",
    "\n",
    "\tdf_data = get_data(api, op_df.Symbol.unique(), start = '2019-01-01', end = last_trading_date)\n",
    "\n",
    "\tdf_ta = RSI_SMA(df_data,op_df.Symbol.unique())\n",
    "\n",
    "\tfull_df = op_df.join(df_ta, on = 'Symbol')\n",
    "\tfull_df = full_df.set_index(np.arange(full_df.shape[0]))\n",
    "\n",
    "\treturn full_df"
   ]
  },
  {
   "cell_type": "code",
   "execution_count": null,
   "id": "0e343e19",
   "metadata": {
    "scrolled": true
   },
   "outputs": [],
   "source": [
    "positions = get_open_positions(api)\n",
    "positions"
   ]
  },
  {
   "cell_type": "code",
   "execution_count": null,
   "id": "c81e7dfd",
   "metadata": {},
   "outputs": [],
   "source": [
    "Eqt_Screen = 99982.64\n",
    "\n"
   ]
  },
  {
   "cell_type": "code",
   "execution_count": null,
   "id": "7187324d",
   "metadata": {},
   "outputs": [],
   "source": [
    "Eqt_Calc = (100000+positions[ 'Unrealized_intraday_pl ($)'])\n",
    "Eqt_Calc"
   ]
  },
  {
   "cell_type": "code",
   "execution_count": null,
   "id": "e9229707",
   "metadata": {},
   "outputs": [],
   "source": [
    "Eqt_Screen - Eqt_Calc"
   ]
  },
  {
   "cell_type": "code",
   "execution_count": null,
   "id": "7e469526",
   "metadata": {},
   "outputs": [],
   "source": [
    "-35.733875"
   ]
  },
  {
   "cell_type": "code",
   "execution_count": null,
   "id": "d219e8af",
   "metadata": {},
   "outputs": [],
   "source": [
    "api.list_positions()"
   ]
  },
  {
   "cell_type": "code",
   "execution_count": null,
   "id": "28668755",
   "metadata": {},
   "outputs": [],
   "source": [
    "api.list_orders()"
   ]
  },
  {
   "cell_type": "markdown",
   "id": "32855f91",
   "metadata": {},
   "source": [
    "<a id='3'></a>\n",
    "# Monitoring Results - Strategy Level"
   ]
  },
  {
   "cell_type": "markdown",
   "id": "1aaea9ea",
   "metadata": {},
   "source": [
    "* get_all_transactions_strategy : Use order id csv - done\n",
    "* realized_profit_df_strategy : input order id - done\n",
    "* get_open_positions_strategy : get unrealised PnL for all open positions of a strategy\n",
    "* portfolio_changes_output : Get change from the initial portfolio level\n",
    "* get_metrics : get all metrics using the portfolio changes output"
   ]
  },
  {
   "cell_type": "code",
   "execution_count": null,
   "id": "fee58607",
   "metadata": {},
   "outputs": [],
   "source": [
    "result_df = pd.DataFrame(columns = ['Qty','price','symbol','transaction_time','order_id'])\n",
    "\n",
    "order_id_list = []\n",
    "\n",
    "for res in result:\n",
    "    order_id_list.append(res.order_id)\n",
    "# pd.DataFrame(order_id_list).to_csv('Strategy_order_ids.csv', index=False) "
   ]
  },
  {
   "cell_type": "code",
   "execution_count": null,
   "id": "5321d707",
   "metadata": {},
   "outputs": [],
   "source": [
    "order_ids = pd.read_csv('Strategy_order_ids.csv')['0'].values.tolist()\n",
    "order_ids"
   ]
  },
  {
   "cell_type": "code",
   "execution_count": null,
   "id": "aac3e033",
   "metadata": {},
   "outputs": [],
   "source": [
    "#api.list_orders('all', nested=True)"
   ]
  },
  {
   "cell_type": "markdown",
   "id": "52bbcfb7",
   "metadata": {},
   "source": [
    "## Function 1 - get details of the strategy and realized PnL"
   ]
  },
  {
   "cell_type": "code",
   "execution_count": null,
   "id": "904150a1",
   "metadata": {},
   "outputs": [],
   "source": [
    "def get_all_transactions_strategy(api, order_ids):\n",
    "    result = api.get_activities()\n",
    "\n",
    "    result_df = pd.DataFrame()\n",
    "\n",
    "    #print(result[0]) # cum_qty, price, symbol, transaction_time\n",
    "\n",
    "    result_df = pd.DataFrame(columns = ['Qty','price','symbol','transaction_time','order_id'])\n",
    "\n",
    "    order_id_list = []\n",
    "    qty_list = []\n",
    "    price_list = []\n",
    "    symbol_list = []\n",
    "    transaction_time_list = []\n",
    "    type_list = []\n",
    "\n",
    "    for res in result:\n",
    "        if (res.order_id in order_ids):\n",
    "            order_id_list.append(res.order_id)\n",
    "            qty_list.append(res.cum_qty)\n",
    "            price_list.append(res.price)\n",
    "            symbol_list.append(res.symbol)\n",
    "            transaction_time_list.append(res.transaction_time)\n",
    "            type_list.append(res.side)\n",
    "\n",
    "\n",
    "\n",
    "    result_df = pd.DataFrame({\n",
    "        'order_id':order_id_list,\n",
    "        'Qty': qty_list, \n",
    "        'Price': price_list, \n",
    "        'Symbol': symbol_list, \n",
    "        'Transaction_time': transaction_time_list, \n",
    "        'Type': type_list})\n",
    "\n",
    "    return result_df"
   ]
  },
  {
   "cell_type": "code",
   "execution_count": null,
   "id": "0ab9183e",
   "metadata": {},
   "outputs": [],
   "source": [
    "get_all_transactions_strategy(api, order_ids )"
   ]
  },
  {
   "cell_type": "code",
   "execution_count": null,
   "id": "35738822",
   "metadata": {},
   "outputs": [],
   "source": [
    "result_df = get_all_transactions_strategy(api, order_ids)\n",
    "\n",
    "df_buy = result_df[result_df.Type == 'buy']\n",
    "\n",
    "df_sell = result_df[result_df.Type == 'sell']\n",
    "\n",
    "df = pd.merge(df_buy, df_sell, on = 'Symbol', how = 'right', suffixes = ['_buy','_sell'])"
   ]
  },
  {
   "cell_type": "code",
   "execution_count": null,
   "id": "f69f7aca",
   "metadata": {},
   "outputs": [],
   "source": [
    "df_buy"
   ]
  },
  {
   "cell_type": "code",
   "execution_count": null,
   "id": "d5209bdb",
   "metadata": {},
   "outputs": [],
   "source": [
    "def realized_profit_df_strategy(api, order_ids):\n",
    "\n",
    "    result_df = get_all_transactions_strategy(api, order_ids)\n",
    "\n",
    "    df_buy = result_df[result_df.Type == 'buy']\n",
    "\n",
    "    df_sell = result_df[result_df.Type == 'sell']\n",
    "    \n",
    "    \n",
    "    df = pd.merge(df_buy, df_sell, on = 'Symbol', how = 'right', suffixes = ['_buy','_sell'])\n",
    "    #All the symbols which have only buy go to the unrealized list\n",
    "    df_unrealized = result_df[~result_df['Symbol'].isin(df_sell.Symbol.unique())]\n",
    "    #print(df_unrealized)\n",
    "\n",
    "    testing = df_sell.sort_values(by = 'Transaction_time')\n",
    "\n",
    "    testing['Price'] = testing.Price.astype('float')\n",
    "    df_buy['Price'] = df_buy.Price.astype('float')\n",
    "\n",
    "    output_frame = pd.DataFrame(columns = ['Symbol', 'Qty','Avg_cost','Avg_holding_period',\n",
    "                                 'Earliest_buy_time','Latest_buy_time','Sell_time','Profit_per_unit','Total Profit', 'Winning_bet?'])\n",
    "\n",
    "    for sym in testing.Symbol.unique():\n",
    "        #print(sym)\n",
    "        buy = df_buy.loc[df_buy.Symbol == sym]\n",
    "        #All rows with sell\n",
    "        sell = testing.loc[testing.Symbol == sym]\n",
    "        \n",
    "        obs = [] # completed sell\\'s index\n",
    "        for i, row in sell.iterrows():\n",
    "            output_dic = {}\n",
    "            if i not in obs:\n",
    "                out = buy.loc[(buy.Transaction_time < row.Transaction_time)]\n",
    "                print(idx)\n",
    "                idx = [j for j in out.index if j not in obs]\n",
    "                print(idx)\n",
    "                out = out.loc[idx]\n",
    "                print(out.shape[0])\n",
    "                assert out.shape[0] == int(row.Qty) #Match the quantity\n",
    "                \n",
    "                # Avg_cost\n",
    "                #print(row.Price - out.groupby('Symbol').Price.mean())\n",
    "                #print(row.Transaction_time - out.groupby('Symbol').Transaction_time.mean())\n",
    "                output_dict = {'Symbol': sym, \n",
    "                               'Qty': int(row.Qty), #Quantity of the sold stocks\n",
    "                               'Avg_cost': round(out.groupby('Symbol').Price.mean()[0],2),\n",
    "                               'Avg_holding_period': (row.Transaction_time - out.groupby('Symbol').Transaction_time.mean())[0],\n",
    "                               'Earliest_buy_time': out.groupby('Symbol').Transaction_time.min()[0],\n",
    "                               'Latest_buy_time': out.groupby('Symbol').Transaction_time.max()[0],\n",
    "                               'Sell_time': row.Transaction_time,\n",
    "                               'Profit_per_unit': round(row.Price - out.groupby('Symbol').Price.mean()[0],2),\n",
    "                               'Total Profit': round((row.Price - out.groupby('Symbol').Price.mean())[0] * int(row.Qty),2),\n",
    "                               'Winning_bet?': True if round(row.Price - out.groupby('Symbol').Price.mean()[0],2) > 0 else False}\n",
    "                output_frame = output_frame.append(output_dict, ignore_index = True)\n",
    "                \n",
    "                if len(idx) > 1:\n",
    "                    for ix in idx:\n",
    "                        obs.append(ix)\n",
    "                else:\n",
    "                    obs.append(idx[0])\n",
    "            \n",
    "\n",
    "    output_frame = output_frame.sort_values('Sell_time', ascending = False)\n",
    "    output_frame['Avg_holding_period'] = output_frame['Avg_holding_period'].apply(lambda x: x.days)\n",
    "\n",
    "    return output_frame"
   ]
  },
  {
   "cell_type": "code",
   "execution_count": null,
   "id": "cec5ca19",
   "metadata": {},
   "outputs": [],
   "source": [
    "realized_profit_df_strategy(api, order_ids)"
   ]
  },
  {
   "cell_type": "markdown",
   "id": "225e98da",
   "metadata": {},
   "source": [
    "### Function 2 - portfolio changes and metrics"
   ]
  },
  {
   "cell_type": "markdown",
   "id": "be88533c",
   "metadata": {},
   "source": [
    "https://forum.alpaca.markets/t/easy-way-to-calculate-profit-per-trade-in-python/1708/6"
   ]
  },
  {
   "cell_type": "code",
   "execution_count": null,
   "id": "e6798243",
   "metadata": {},
   "outputs": [],
   "source": [
    "api.list_positions()"
   ]
  },
  {
   "cell_type": "code",
   "execution_count": null,
   "id": "7861ac9b",
   "metadata": {},
   "outputs": [],
   "source": [
    "unrealized_pl = (150.88 - 149.0505263157894737)*38\n",
    "unrealized_pl"
   ]
  },
  {
   "cell_type": "code",
   "execution_count": null,
   "id": "3ae05e39",
   "metadata": {},
   "outputs": [],
   "source": [
    "unrealized_intraday_pl = (150.88 - 151.29)*38\n",
    "unrealized_intraday_pl"
   ]
  },
  {
   "cell_type": "code",
   "execution_count": null,
   "id": "169d938a",
   "metadata": {},
   "outputs": [],
   "source": [
    "api.get_portfolio_history()"
   ]
  },
  {
   "cell_type": "code",
   "execution_count": null,
   "id": "3baf5dd4",
   "metadata": {},
   "outputs": [],
   "source": [
    "import pandas as pd\n",
    "from tabulate import tabulate\n",
    "import pytz\n",
    "import datetime as dt\n",
    "from datetime import date\n",
    "\n",
    "# pass the API and prevDays (0 for today, 1 since yesterday...)\n",
    "def report2(api, prevDays):\n",
    "    #\n",
    "    # get all closed orders and import them into a dataframe\n",
    "    #\n",
    "    orderTotal = 500\n",
    "    today = dt.date.today() - dt.timedelta(days=prevDays)\n",
    "    today = dt.datetime.combine(today, dt.datetime.min.time())\n",
    "    today = today.strftime(\"%Y-%m-%dT%H:%M:%SZ\")\n",
    "    #print(today)\n",
    "    orders = api.list_orders(status='all', limit=orderTotal, after=today)\n",
    "    if not orders:\n",
    "        return\n",
    "    dfOrders = pd.DataFrame()\n",
    "    for o in orders:\n",
    "        # convert dot notation to dict\n",
    "        d = vars(o)\n",
    "        # import dict into dataframe\n",
    "        df = pd.DataFrame.from_dict(d, orient='index')\n",
    "        # append to dataframe\n",
    "        dfOrders = dfOrders.append(df, ignore_index=True)\n",
    "\n",
    "    # select filled orders with buy or sell\n",
    "    dfSel = dfOrders\n",
    "    # choose a subset (use .copy() as we are slicing and to avoid warning)\n",
    "    dfSel = dfSel[['submitted_at', 'filled_at', 'symbol', 'filled_qty', 'side', 'type', 'filled_avg_price', 'status']].copy()\n",
    "\n",
    "    # convert filled_at to date\n",
    "    dfSel['submitted_at'] = pd.to_datetime(dfSel['submitted_at'], format=\"%Y-%m-%d %H:%M:%S\")\n",
    "    dfSel['filled_at']    = pd.to_datetime(dfSel['filled_at'], format=\"%Y-%m-%d %H:%M:%S\")\n",
    "    # convert to our timezone\n",
    "    dfSel['submitted_at'] = dfSel['submitted_at'].dt.tz_convert('America/New_York')\n",
    "    dfSel['filled_at']    = dfSel['filled_at'].dt.tz_convert('America/New_York')\n",
    "    # remove millis\n",
    "    dfSel['submitted_at'] = dfSel['submitted_at'].dt.strftime(\"%Y-%m-%d %H:%M:%S\")\n",
    "    dfSel['filled_at']    = dfSel['filled_at'].dt.strftime(\"%Y-%m-%d %H:%M:%S\")\n",
    "\n",
    "    # Sort: https://kanoki.org/2020/01/28/sort-pandas-dataframe-and-series/\n",
    "    # need to sort in order to perform the proper calculations\n",
    "    # sort based on the following sequence of types: market then limit, then stop_limit\n",
    "    dfSel['type'] = pd.Categorical(dfSel['type'], categories=[\"market\", \"limit\", \"stop_limit\"])\n",
    "    # sort first based on symbol, then type as per the list above, then submitted date\n",
    "    dfSel.sort_values(by=['symbol', 'submitted_at', 'type'], inplace=True, ascending=True)\n",
    "\n",
    "    # reset index\n",
    "    dfSel.reset_index(drop=True, inplace=True)\n",
    "    # drop the 'side' column\n",
    "    # dfProfit = dfSel.drop('side', 1)\n",
    "    dfProfit = dfSel\n",
    "    # add empty 'profit' column\n",
    "    dfProfit['profit'] = ''\n",
    "\n",
    "    totalProfit = 0.0\n",
    "    profitCnt   = 0\n",
    "    lossCnt     = 0\n",
    "    slCnt       = 0\n",
    "    ptCnt       = 0\n",
    "    trCnt       = 0\n",
    "    qty         = 0\n",
    "    profit      = 0\n",
    "    sign        = {'buy': -1, 'sell': 1}\n",
    "\n",
    "    # show header row\n",
    "    #print(tabulate(dfSel[:0], headers='keys', tablefmt='simple', showindex=False))\n",
    "\n",
    "    for index, row in dfSel.iterrows():\n",
    "        # show data row\n",
    "        #print(index, tabulate(dfSel[index:index+1], headers='', tablefmt='plain'))\n",
    "\n",
    "        # conditions:\n",
    "        # - buy/sell have the same symbol\n",
    "        # - a trade is considered if no new/held orders are still open\n",
    "        # - once qty is 0 a complete trade is confirmed and profit calculated\n",
    "        # - a filled_avg_price is not None\n",
    "\n",
    "        if index > 0:\n",
    "            if dfSel['symbol'][index - 1] != dfSel['symbol'][index]:\n",
    "                qty    = 0\n",
    "                profit = 0\n",
    "\n",
    "        if dfSel['status'][index] == 'held':\n",
    "            continue\n",
    "        if dfSel['status'][index] == 'new':\n",
    "            continue\n",
    "        if dfSel['filled_avg_price'][index] is None:\n",
    "            continue\n",
    "        if dfSel['filled_avg_price'][index] == '':\n",
    "            continue\n",
    "        if dfSel['filled_avg_price'][index] == 'None':\n",
    "            continue\n",
    "\n",
    "        #print(index, tabulate(dfSel[index:index+1], headers='', tablefmt='plain'))\n",
    "\n",
    "        side      = dfSel['side'][index]\n",
    "        filledQty = int(dfSel['filled_qty'][index]) * sign[side]\n",
    "        qty       = qty + filledQty\n",
    "        price     = float(dfSel['filled_avg_price'][index])\n",
    "        pl        = filledQty * price\n",
    "        profit    = profit + pl\n",
    "\n",
    "        #print(f\"{dfSel['symbol'][index]}: qty {filledQty} price {price} profit {profit:.3f}\")\n",
    "\n",
    "        if qty==0:\n",
    "            # complete trade\n",
    "            trCnt = trCnt + 1\n",
    "            # put the profit in its column\n",
    "            #dfProfit['profit'][index] = profit\n",
    "            dfProfit.loc[index, 'profit'] = round(profit, 2)\n",
    "            totalProfit = totalProfit + profit\n",
    "            if profit >= 0:\n",
    "                profitCnt = profitCnt + 1\n",
    "                if dfSel['type'][index] == 'limit':\n",
    "                    ptCnt = ptCnt + 1\n",
    "            else:\n",
    "                lossCnt = lossCnt + 1\n",
    "                if dfSel['type'][index] == 'stop_limit':\n",
    "                    slCnt = slCnt + 1\n",
    "            profit = 0\n",
    "\n",
    "    # append the total\n",
    "    dfProfit.loc[\"Total\", \"profit\"] = round(totalProfit, 2)  # dfProfit.profit.sum()\n",
    "\n",
    "    # print profit report\n",
    "    print(tabulate(dfProfit, headers='keys', tablefmt='simple', showindex=True, floatfmt=\".2f\"))\n",
    "    #print(dfProfit.to_string())\n",
    "\n",
    "    totalCnt = profitCnt + lossCnt\n",
    "    if totalCnt > 0:\n",
    "        ratio = profitCnt / totalCnt * 100.0\n",
    "        print('\\nProfits:', profitCnt)\n",
    "        print('Losses :'  , lossCnt)\n",
    "        print('Ratio  :'  , f'{ratio:.2f}%')\n",
    "        print('Trades :'  , trCnt)\n",
    "        print('Stops  :'  , slCnt)\n",
    "        print('Targets:'  , ptCnt)"
   ]
  },
  {
   "cell_type": "code",
   "execution_count": null,
   "id": "867ce608",
   "metadata": {},
   "outputs": [],
   "source": [
    "report2(api, 1)"
   ]
  },
  {
   "cell_type": "code",
   "execution_count": null,
   "id": "7a8be53c",
   "metadata": {},
   "outputs": [],
   "source": [
    "def get_trading_cal(api):\n",
    "    cal = api.get_calendar()\n",
    "    cal_ls = []\n",
    "    for c in cal:\n",
    "        cal_ls.append(c.date)\n",
    "      \n",
    "    cal_ls = pd.Series(cal_ls)\n",
    "    return cal_ls\n",
    "\n",
    "def get_portfolio_changes_strategy(api):\n",
    "    acc_start = api.get_account().created_at.strftime('%Y-%m-%d') # the date where account was created\n",
    "\n",
    "    cal_ls = get_trading_cal(api) # obtain trading calendar\n",
    "\n",
    "    # Obtain the trading days that were between the account created date and today, then convert to date format\n",
    "    trading_days = cal_ls[(cal_ls >= acc_start) & (cal_ls < dt.datetime.strftime(dt.datetime.today(), '%Y-%m-%d'))]\n",
    "    trading_days = trading_days.apply(lambda x: dt.datetime.strftime(x, '%Y-%m-%d'))\n",
    "\n",
    "    # Obtain the portfolio changes\n",
    "    df_trade = pd.DataFrame(columns = ['timestamp','equity','pnl','pnl (pct)'])\n",
    "\n",
    "    for trade in trading_days:\n",
    "        result = api.get_portfolio_history(trade)\n",
    "        profit_loss = result.profit_loss\n",
    "        pnl_pct = result.profit_loss_pct\n",
    "        timestamp = [dt.datetime.fromtimestamp(val).strftime('%Y-%m-%d %H:%M') for val in result.timestamp]\n",
    "        df_trade = pd.concat([df_trade, pd.DataFrame({'timestamp': timestamp, 'equity': result.equity, 'pnl':profit_loss, 'pnl (pct)': pnl_pct })], axis = 0)\n",
    "\n",
    "    # Remove duplicates record with the same date\n",
    "    df_trade = df_trade.sort_values(by = 'timestamp').drop_duplicates(subset = ['timestamp'],ignore_index=True, keep = 'first')\n",
    "\n",
    "    df_trade['date'] = df_trade['timestamp'].apply(lambda x: x[:10])\n",
    "\n",
    "    # Only query the last record of the day for intraday changes\n",
    "    df_agg = df_trade.groupby('date').last()\n",
    "    df_agg = df_agg.reset_index().drop('timestamp', axis = 1)\n",
    "\n",
    "    max_drawdown = 10000 - df_agg.equity.min()\n",
    "    \n",
    "    return df_agg, max_drawdown"
   ]
  },
  {
   "cell_type": "code",
   "execution_count": null,
   "id": "8c1c907d",
   "metadata": {},
   "outputs": [],
   "source": [
    "def get_metrics(api, max_drawdown):\n",
    "\tacc_details = api.get_account()\n",
    "\tcash_balance = acc_details.cash\n",
    "\tportfolio_value = acc_details.portfolio_value\n",
    "\tacc_status = acc_details.status\n",
    "\tlong_market_value = acc_details.long_market_value\n",
    "\n",
    "\toutput = pd.DataFrame({\n",
    "\t\t\t\t'cash_balance': [cash_balance],\n",
    "\t\t\t\t'portfolio_value': [portfolio_value],\n",
    "\t\t\t\t'long_market_value': [long_market_value],\n",
    "\t\t\t\t'last_updated':  [dt.datetime.today().strftime('%Y-%m-%d %H:%M')],\n",
    "\t\t\t\t'max_drawdown': [max_drawdown]\n",
    "\t\t\t\t})\n",
    "\n",
    "\treturn output"
   ]
  },
  {
   "cell_type": "markdown",
   "id": "a5774743",
   "metadata": {},
   "source": [
    "<a id='4'></a>\n",
    "# Submit Order"
   ]
  },
  {
   "cell_type": "code",
   "execution_count": 38,
   "id": "9ce3d3b2",
   "metadata": {},
   "outputs": [],
   "source": [
    "import datetime\n",
    "client_id = \"TradingStrategy\" + \"_\" + str(datetime.datetime.now())"
   ]
  },
  {
   "cell_type": "code",
   "execution_count": 39,
   "id": "f35a93fe",
   "metadata": {},
   "outputs": [
    {
     "data": {
      "text/plain": [
       "Order({   'asset_class': 'us_equity',\n",
       "    'asset_id': 'b0b6dd9d-8b9b-48a9-ba46-b9d54906e415',\n",
       "    'canceled_at': None,\n",
       "    'client_order_id': 'TradingStrategy_2022-11-24 13:52:54.226860',\n",
       "    'created_at': '2022-11-24T18:52:54.431590515Z',\n",
       "    'expired_at': None,\n",
       "    'extended_hours': False,\n",
       "    'failed_at': None,\n",
       "    'filled_at': None,\n",
       "    'filled_avg_price': None,\n",
       "    'filled_qty': '0',\n",
       "    'hwm': None,\n",
       "    'id': '9a07e29d-5562-463f-bd55-09e9b9696085',\n",
       "    'legs': None,\n",
       "    'limit_price': None,\n",
       "    'notional': None,\n",
       "    'order_class': '',\n",
       "    'order_type': 'market',\n",
       "    'qty': '10',\n",
       "    'replaced_at': None,\n",
       "    'replaced_by': None,\n",
       "    'replaces': None,\n",
       "    'side': 'buy',\n",
       "    'source': None,\n",
       "    'status': 'accepted',\n",
       "    'stop_price': None,\n",
       "    'submitted_at': '2022-11-24T18:52:54.430489955Z',\n",
       "    'subtag': None,\n",
       "    'symbol': 'AAPL',\n",
       "    'time_in_force': 'gtc',\n",
       "    'trail_percent': None,\n",
       "    'trail_price': None,\n",
       "    'type': 'market',\n",
       "    'updated_at': '2022-11-24T18:52:54.431590515Z'})"
      ]
     },
     "execution_count": 39,
     "metadata": {},
     "output_type": "execute_result"
    }
   ],
   "source": [
    "api.submit_order(\n",
    "    symbol='AAPL',\n",
    "    qty=10,\n",
    "    side='buy',\n",
    "    type='market',\n",
    "    time_in_force='gtc',\n",
    "    client_order_id=client_id)"
   ]
  },
  {
   "cell_type": "code",
   "execution_count": 40,
   "id": "2909068f",
   "metadata": {},
   "outputs": [
    {
     "ename": "APIError",
     "evalue": "order not found for my_second_order",
     "output_type": "error",
     "traceback": [
      "\u001b[1;31m---------------------------------------------------------------------------\u001b[0m",
      "\u001b[1;31mHTTPError\u001b[0m                                 Traceback (most recent call last)",
      "\u001b[1;32m~\\anaconda3\\lib\\site-packages\\alpaca_trade_api\\rest.py\u001b[0m in \u001b[0;36m_one_request\u001b[1;34m(self, method, url, opts, retry)\u001b[0m\n\u001b[0;32m    233\u001b[0m         \u001b[1;32mtry\u001b[0m\u001b[1;33m:\u001b[0m\u001b[1;33m\u001b[0m\u001b[1;33m\u001b[0m\u001b[0m\n\u001b[1;32m--> 234\u001b[1;33m             \u001b[0mresp\u001b[0m\u001b[1;33m.\u001b[0m\u001b[0mraise_for_status\u001b[0m\u001b[1;33m(\u001b[0m\u001b[1;33m)\u001b[0m\u001b[1;33m\u001b[0m\u001b[1;33m\u001b[0m\u001b[0m\n\u001b[0m\u001b[0;32m    235\u001b[0m         \u001b[1;32mexcept\u001b[0m \u001b[0mHTTPError\u001b[0m \u001b[1;32mas\u001b[0m \u001b[0mhttp_error\u001b[0m\u001b[1;33m:\u001b[0m\u001b[1;33m\u001b[0m\u001b[1;33m\u001b[0m\u001b[0m\n",
      "\u001b[1;32m~\\anaconda3\\lib\\site-packages\\requests\\models.py\u001b[0m in \u001b[0;36mraise_for_status\u001b[1;34m(self)\u001b[0m\n\u001b[0;32m    959\u001b[0m         \u001b[1;32mif\u001b[0m \u001b[0mhttp_error_msg\u001b[0m\u001b[1;33m:\u001b[0m\u001b[1;33m\u001b[0m\u001b[1;33m\u001b[0m\u001b[0m\n\u001b[1;32m--> 960\u001b[1;33m             \u001b[1;32mraise\u001b[0m \u001b[0mHTTPError\u001b[0m\u001b[1;33m(\u001b[0m\u001b[0mhttp_error_msg\u001b[0m\u001b[1;33m,\u001b[0m \u001b[0mresponse\u001b[0m\u001b[1;33m=\u001b[0m\u001b[0mself\u001b[0m\u001b[1;33m)\u001b[0m\u001b[1;33m\u001b[0m\u001b[1;33m\u001b[0m\u001b[0m\n\u001b[0m\u001b[0;32m    961\u001b[0m \u001b[1;33m\u001b[0m\u001b[0m\n",
      "\u001b[1;31mHTTPError\u001b[0m: 404 Client Error: Not Found for url: https://paper-api.alpaca.markets/v2/orders:by_client_order_id?client_order_id=my_second_order",
      "\nDuring handling of the above exception, another exception occurred:\n",
      "\u001b[1;31mAPIError\u001b[0m                                  Traceback (most recent call last)",
      "\u001b[1;32m~\\AppData\\Local\\Temp\\ipykernel_64736\\3219148557.py\u001b[0m in \u001b[0;36m<module>\u001b[1;34m\u001b[0m\n\u001b[0;32m      1\u001b[0m \u001b[0mapi\u001b[0m \u001b[1;33m=\u001b[0m \u001b[0mREST\u001b[0m\u001b[1;33m(\u001b[0m\u001b[1;33m)\u001b[0m\u001b[1;33m\u001b[0m\u001b[1;33m\u001b[0m\u001b[0m\n\u001b[1;32m----> 2\u001b[1;33m \u001b[0mmy_order\u001b[0m \u001b[1;33m=\u001b[0m \u001b[0mapi\u001b[0m\u001b[1;33m.\u001b[0m\u001b[0mget_order_by_client_order_id\u001b[0m\u001b[1;33m(\u001b[0m\u001b[1;34m'my_second_order'\u001b[0m\u001b[1;33m)\u001b[0m\u001b[1;33m\u001b[0m\u001b[1;33m\u001b[0m\u001b[0m\n\u001b[0m\u001b[0;32m      3\u001b[0m \u001b[0mprint\u001b[0m\u001b[1;33m(\u001b[0m\u001b[1;34m'Got order #{}'\u001b[0m\u001b[1;33m.\u001b[0m\u001b[0mformat\u001b[0m\u001b[1;33m(\u001b[0m\u001b[0mmy_order\u001b[0m\u001b[1;33m.\u001b[0m\u001b[0mid\u001b[0m\u001b[1;33m)\u001b[0m\u001b[1;33m)\u001b[0m\u001b[1;33m\u001b[0m\u001b[1;33m\u001b[0m\u001b[0m\n",
      "\u001b[1;32m~\\anaconda3\\lib\\site-packages\\alpaca_trade_api\\rest.py\u001b[0m in \u001b[0;36mget_order_by_client_order_id\u001b[1;34m(self, client_order_id)\u001b[0m\n\u001b[0;32m    435\u001b[0m             \u001b[1;34m'client_order_id'\u001b[0m\u001b[1;33m:\u001b[0m \u001b[0mclient_order_id\u001b[0m\u001b[1;33m,\u001b[0m\u001b[1;33m\u001b[0m\u001b[1;33m\u001b[0m\u001b[0m\n\u001b[0;32m    436\u001b[0m         }\n\u001b[1;32m--> 437\u001b[1;33m         \u001b[0mresp\u001b[0m \u001b[1;33m=\u001b[0m \u001b[0mself\u001b[0m\u001b[1;33m.\u001b[0m\u001b[0mget\u001b[0m\u001b[1;33m(\u001b[0m\u001b[1;34m'/orders:by_client_order_id'\u001b[0m\u001b[1;33m,\u001b[0m \u001b[0mparams\u001b[0m\u001b[1;33m)\u001b[0m\u001b[1;33m\u001b[0m\u001b[1;33m\u001b[0m\u001b[0m\n\u001b[0m\u001b[0;32m    438\u001b[0m         \u001b[1;32mreturn\u001b[0m \u001b[0mself\u001b[0m\u001b[1;33m.\u001b[0m\u001b[0mresponse_wrapper\u001b[0m\u001b[1;33m(\u001b[0m\u001b[0mresp\u001b[0m\u001b[1;33m,\u001b[0m \u001b[0mOrder\u001b[0m\u001b[1;33m)\u001b[0m\u001b[1;33m\u001b[0m\u001b[1;33m\u001b[0m\u001b[0m\n\u001b[0;32m    439\u001b[0m \u001b[1;33m\u001b[0m\u001b[0m\n",
      "\u001b[1;32m~\\anaconda3\\lib\\site-packages\\alpaca_trade_api\\rest.py\u001b[0m in \u001b[0;36mget\u001b[1;34m(self, path, data)\u001b[0m\n\u001b[0;32m    248\u001b[0m \u001b[1;33m\u001b[0m\u001b[0m\n\u001b[0;32m    249\u001b[0m     \u001b[1;32mdef\u001b[0m \u001b[0mget\u001b[0m\u001b[1;33m(\u001b[0m\u001b[0mself\u001b[0m\u001b[1;33m,\u001b[0m \u001b[0mpath\u001b[0m\u001b[1;33m,\u001b[0m \u001b[0mdata\u001b[0m\u001b[1;33m=\u001b[0m\u001b[1;32mNone\u001b[0m\u001b[1;33m)\u001b[0m\u001b[1;33m:\u001b[0m\u001b[1;33m\u001b[0m\u001b[1;33m\u001b[0m\u001b[0m\n\u001b[1;32m--> 250\u001b[1;33m         \u001b[1;32mreturn\u001b[0m \u001b[0mself\u001b[0m\u001b[1;33m.\u001b[0m\u001b[0m_request\u001b[0m\u001b[1;33m(\u001b[0m\u001b[1;34m'GET'\u001b[0m\u001b[1;33m,\u001b[0m \u001b[0mpath\u001b[0m\u001b[1;33m,\u001b[0m \u001b[0mdata\u001b[0m\u001b[1;33m)\u001b[0m\u001b[1;33m\u001b[0m\u001b[1;33m\u001b[0m\u001b[0m\n\u001b[0m\u001b[0;32m    251\u001b[0m \u001b[1;33m\u001b[0m\u001b[0m\n\u001b[0;32m    252\u001b[0m     \u001b[1;32mdef\u001b[0m \u001b[0mpost\u001b[0m\u001b[1;33m(\u001b[0m\u001b[0mself\u001b[0m\u001b[1;33m,\u001b[0m \u001b[0mpath\u001b[0m\u001b[1;33m,\u001b[0m \u001b[0mdata\u001b[0m\u001b[1;33m=\u001b[0m\u001b[1;32mNone\u001b[0m\u001b[1;33m)\u001b[0m\u001b[1;33m:\u001b[0m\u001b[1;33m\u001b[0m\u001b[1;33m\u001b[0m\u001b[0m\n",
      "\u001b[1;32m~\\anaconda3\\lib\\site-packages\\alpaca_trade_api\\rest.py\u001b[0m in \u001b[0;36m_request\u001b[1;34m(self, method, path, data, base_url, api_version)\u001b[0m\n\u001b[0;32m    211\u001b[0m         \u001b[1;32mwhile\u001b[0m \u001b[0mretry\u001b[0m \u001b[1;33m>=\u001b[0m \u001b[1;36m0\u001b[0m\u001b[1;33m:\u001b[0m\u001b[1;33m\u001b[0m\u001b[1;33m\u001b[0m\u001b[0m\n\u001b[0;32m    212\u001b[0m             \u001b[1;32mtry\u001b[0m\u001b[1;33m:\u001b[0m\u001b[1;33m\u001b[0m\u001b[1;33m\u001b[0m\u001b[0m\n\u001b[1;32m--> 213\u001b[1;33m                 \u001b[1;32mreturn\u001b[0m \u001b[0mself\u001b[0m\u001b[1;33m.\u001b[0m\u001b[0m_one_request\u001b[0m\u001b[1;33m(\u001b[0m\u001b[0mmethod\u001b[0m\u001b[1;33m,\u001b[0m \u001b[0murl\u001b[0m\u001b[1;33m,\u001b[0m \u001b[0mopts\u001b[0m\u001b[1;33m,\u001b[0m \u001b[0mretry\u001b[0m\u001b[1;33m)\u001b[0m\u001b[1;33m\u001b[0m\u001b[1;33m\u001b[0m\u001b[0m\n\u001b[0m\u001b[0;32m    214\u001b[0m             \u001b[1;32mexcept\u001b[0m \u001b[0mRetryException\u001b[0m\u001b[1;33m:\u001b[0m\u001b[1;33m\u001b[0m\u001b[1;33m\u001b[0m\u001b[0m\n\u001b[0;32m    215\u001b[0m                 \u001b[0mretry_wait\u001b[0m \u001b[1;33m=\u001b[0m \u001b[0mself\u001b[0m\u001b[1;33m.\u001b[0m\u001b[0m_retry_wait\u001b[0m\u001b[1;33m\u001b[0m\u001b[1;33m\u001b[0m\u001b[0m\n",
      "\u001b[1;32m~\\anaconda3\\lib\\site-packages\\alpaca_trade_api\\rest.py\u001b[0m in \u001b[0;36m_one_request\u001b[1;34m(self, method, url, opts, retry)\u001b[0m\n\u001b[0;32m    240\u001b[0m                 \u001b[0merror\u001b[0m \u001b[1;33m=\u001b[0m \u001b[0mresp\u001b[0m\u001b[1;33m.\u001b[0m\u001b[0mjson\u001b[0m\u001b[1;33m(\u001b[0m\u001b[1;33m)\u001b[0m\u001b[1;33m\u001b[0m\u001b[1;33m\u001b[0m\u001b[0m\n\u001b[0;32m    241\u001b[0m                 \u001b[1;32mif\u001b[0m \u001b[1;34m'code'\u001b[0m \u001b[1;32min\u001b[0m \u001b[0merror\u001b[0m\u001b[1;33m:\u001b[0m\u001b[1;33m\u001b[0m\u001b[1;33m\u001b[0m\u001b[0m\n\u001b[1;32m--> 242\u001b[1;33m                     \u001b[1;32mraise\u001b[0m \u001b[0mAPIError\u001b[0m\u001b[1;33m(\u001b[0m\u001b[0merror\u001b[0m\u001b[1;33m,\u001b[0m \u001b[0mhttp_error\u001b[0m\u001b[1;33m)\u001b[0m\u001b[1;33m\u001b[0m\u001b[1;33m\u001b[0m\u001b[0m\n\u001b[0m\u001b[0;32m    243\u001b[0m             \u001b[1;32melse\u001b[0m\u001b[1;33m:\u001b[0m\u001b[1;33m\u001b[0m\u001b[1;33m\u001b[0m\u001b[0m\n\u001b[0;32m    244\u001b[0m                 \u001b[1;32mraise\u001b[0m\u001b[1;33m\u001b[0m\u001b[1;33m\u001b[0m\u001b[0m\n",
      "\u001b[1;31mAPIError\u001b[0m: order not found for my_second_order"
     ]
    }
   ],
   "source": [
    "api = REST()\n",
    "my_order = api.get_order_by_client_order_id('my_second_order')\n",
    "print('Got order #{}'.format(my_order.id))"
   ]
  },
  {
   "cell_type": "code",
   "execution_count": 41,
   "id": "09296d8e",
   "metadata": {},
   "outputs": [],
   "source": [
    "result = api.get_activities()"
   ]
  },
  {
   "cell_type": "code",
   "execution_count": 42,
   "id": "49fbeafe",
   "metadata": {},
   "outputs": [
    {
     "name": "stdout",
     "output_type": "stream",
     "text": [
      "TradingStrategy_2022-11-21 01:01:19.451523\n"
     ]
    }
   ],
   "source": [
    "#trades = api.get_activities(date='2021-08-10', activity_types='FILL')\n",
    "trades = api.get_activities()\n",
    "for trade in trades:\n",
    "  order_ids = trade.order_id\n",
    "  price = float(trade.price)\n",
    "  qty = int(trade.qty)\n",
    "  side = trade.side\n",
    "  symbol = trade.symbol\n",
    "  client_order_id = api.get_order(trade.order_id).client_order_id\n",
    "  print(client_order_id)\n",
    "  alpaca_id = trade.id"
   ]
  },
  {
   "cell_type": "markdown",
   "id": "0d244a88",
   "metadata": {},
   "source": [
    "<a id='5'></a>\n",
    "# Running processes together\n"
   ]
  },
  {
   "cell_type": "code",
   "execution_count": 37,
   "id": "a21d2c57",
   "metadata": {},
   "outputs": [],
   "source": [
    "os.environ['APCA_API_KEY_ID'] = 'PKCXJIA0J6B064W65PG8'\n",
    "os.environ['APCA_API_SECRET_KEY'] = 'e2qNpzFFqFhgOrEeSXipkCh4zi2UyVcFo2R1KKcD'\n",
    "os.environ['APCA_API_BASE_URL'] = 'https://paper-api.alpaca.markets'"
   ]
  },
  {
   "cell_type": "code",
   "execution_count": 43,
   "id": "8cf485f7",
   "metadata": {},
   "outputs": [],
   "source": [
    "from threading import Thread\n",
    "\n",
    "def SubmitOrder():\n",
    "    print('Submitting order')    \n",
    "    api = REST()\n",
    "    client_id = \"TradingStrategy\" + \"_\" + str(datetime.datetime.now())\n",
    "    api.submit_order(\n",
    "    symbol='GBP/USD',\n",
    "    qty=1,\n",
    "    side='buy',\n",
    "    type='market',\n",
    "    time_in_force='gtc',\n",
    "    client_order_id=client_id)\n",
    "    time.sleep(2.4)\n",
    "\n",
    "def func2():\n",
    "    print(\"Getting order details\")  \n",
    "    api = REST()\n",
    "    trades = api.get_activities()\n",
    "    for trade in trades:\n",
    "      order_ids = trade.order_id\n",
    "      price = float(trade.price)\n",
    "      qty = int(trade.qty)\n",
    "      side = trade.side\n",
    "      symbol = trade.symbol\n",
    "      client_order_id = api.get_order(trade.order_id).client_order_id\n",
    "      print(client_order_id)\n",
    "      alpaca_id = trade.id\n",
    "     \n",
    "#     api = REST()\n",
    "#     my_order = api.get_order_by_client_order_id('my_second_order')\n",
    "#     print('Got order #{}'.format(my_order.id))\n",
    "\n"
   ]
  },
  {
   "cell_type": "code",
   "execution_count": 44,
   "id": "8710a3cd",
   "metadata": {},
   "outputs": [
    {
     "name": "stdout",
     "output_type": "stream",
     "text": [
      "Submitting order\n",
      "Getting order details\n"
     ]
    },
    {
     "name": "stderr",
     "output_type": "stream",
     "text": [
      "Exception in thread Thread-5:\n",
      "Traceback (most recent call last):\n",
      "  File \"C:\\Users\\tatsa\\anaconda3\\lib\\site-packages\\alpaca_trade_api\\rest.py\", line 234, in _one_request\n",
      "    resp.raise_for_status()\n",
      "  File \"C:\\Users\\tatsa\\anaconda3\\lib\\site-packages\\requests\\models.py\", line 960, in raise_for_status\n",
      "    raise HTTPError(http_error_msg, response=self)\n",
      "requests.exceptions.HTTPError: 422 Client Error: Unprocessable Entity for url: https://paper-api.alpaca.markets/v2/orders\n",
      "\n",
      "During handling of the above exception, another exception occurred:\n",
      "\n",
      "Traceback (most recent call last):\n",
      "  File \"C:\\Users\\tatsa\\anaconda3\\lib\\threading.py\", line 980, in _bootstrap_inner\n",
      "    self.run()\n",
      "  File \"C:\\Users\\tatsa\\anaconda3\\lib\\threading.py\", line 917, in run\n",
      "    self._target(*self._args, **self._kwargs)\n",
      "  File \"C:\\Users\\tatsa\\AppData\\Local\\Temp\\ipykernel_64736\\32105472.py\", line 7, in SubmitOrder\n",
      "  File \"C:\\Users\\tatsa\\anaconda3\\lib\\site-packages\\alpaca_trade_api\\rest.py\", line 429, in submit_order\n",
      "    resp = self.post('/orders', params)\n",
      "  File \"C:\\Users\\tatsa\\anaconda3\\lib\\site-packages\\alpaca_trade_api\\rest.py\", line 253, in post\n",
      "    return self._request('POST', path, data)\n",
      "  File \"C:\\Users\\tatsa\\anaconda3\\lib\\site-packages\\alpaca_trade_api\\rest.py\", line 213, in _request\n",
      "    return self._one_request(method, url, opts, retry)\n",
      "  File \"C:\\Users\\tatsa\\anaconda3\\lib\\site-packages\\alpaca_trade_api\\rest.py\", line 242, in _one_request\n",
      "    raise APIError(error, http_error)\n",
      "alpaca_trade_api.rest.APIError: could not find asset \"GBP/USD\"\n"
     ]
    },
    {
     "name": "stdout",
     "output_type": "stream",
     "text": [
      "TradingStrategy_2022-11-21 01:01:19.451523\n"
     ]
    }
   ],
   "source": [
    "if __name__ == '__main__':    \n",
    "    Thread(target = SubmitOrder).start()\n",
    "    Thread(target = func2).start()"
   ]
  },
  {
   "cell_type": "code",
   "execution_count": 45,
   "id": "8e83e2b9",
   "metadata": {},
   "outputs": [
    {
     "ename": "NameError",
     "evalue": "name 'func1' is not defined",
     "output_type": "error",
     "traceback": [
      "\u001b[1;31m---------------------------------------------------------------------------\u001b[0m",
      "\u001b[1;31mNameError\u001b[0m                                 Traceback (most recent call last)",
      "\u001b[1;32m~\\AppData\\Local\\Temp\\ipykernel_64736\\2762133891.py\u001b[0m in \u001b[0;36m<module>\u001b[1;34m\u001b[0m\n\u001b[0;32m      1\u001b[0m \u001b[1;32mif\u001b[0m \u001b[0m__name__\u001b[0m \u001b[1;33m==\u001b[0m \u001b[1;34m'__main__'\u001b[0m\u001b[1;33m:\u001b[0m\u001b[1;33m\u001b[0m\u001b[1;33m\u001b[0m\u001b[0m\n\u001b[1;32m----> 2\u001b[1;33m     \u001b[0mfunc1\u001b[0m\u001b[1;33m(\u001b[0m\u001b[1;33m)\u001b[0m\u001b[1;33m\u001b[0m\u001b[1;33m\u001b[0m\u001b[0m\n\u001b[0m\u001b[0;32m      3\u001b[0m     \u001b[0mfunc2\u001b[0m\u001b[1;33m(\u001b[0m\u001b[1;33m)\u001b[0m\u001b[1;33m\u001b[0m\u001b[1;33m\u001b[0m\u001b[0m\n",
      "\u001b[1;31mNameError\u001b[0m: name 'func1' is not defined"
     ]
    }
   ],
   "source": [
    "if __name__ == '__main__':\n",
    "    func1()\n",
    "    func2()"
   ]
  },
  {
   "cell_type": "code",
   "execution_count": null,
   "id": "c4a9e103",
   "metadata": {},
   "outputs": [],
   "source": []
  }
 ],
 "metadata": {
  "kernelspec": {
   "display_name": "Python 3 (ipykernel)",
   "language": "python",
   "name": "python3"
  },
  "language_info": {
   "codemirror_mode": {
    "name": "ipython",
    "version": 3
   },
   "file_extension": ".py",
   "mimetype": "text/x-python",
   "name": "python",
   "nbconvert_exporter": "python",
   "pygments_lexer": "ipython3",
   "version": "3.9.13"
  }
 },
 "nbformat": 4,
 "nbformat_minor": 5
}
